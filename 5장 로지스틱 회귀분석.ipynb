{
 "cells": [
  {
   "cell_type": "markdown",
   "metadata": {},
   "source": [
    "## 5장 로지스틱 회귀분석"
   ]
  },
  {
   "cell_type": "markdown",
   "metadata": {},
   "source": [
    "### [1] 이항 분류 예측 실습"
   ]
  },
  {
   "cell_type": "markdown",
   "metadata": {},
   "source": [
    "- 변수 지정 및 전처리"
   ]
  },
  {
   "cell_type": "code",
   "execution_count": 1,
   "metadata": {},
   "outputs": [
    {
     "name": "stdout",
     "output_type": "stream",
     "text": [
      "[[ 0.69336175  0.22690456  0.03475125]\n",
      " [-0.225208   -0.02778804 -0.17540748]\n",
      " [-0.52055725  0.61729402  0.98046554]\n",
      " ...\n",
      " [-0.60960507  0.55779616 -0.01778844]\n",
      " [-0.02842033 -0.64468689 -0.22794717]\n",
      " [-0.30394592  0.83127755 -0.70080431]]\n"
     ]
    }
   ],
   "source": [
    "#1. 모듈 및 함수 불러오기\n",
    "import pandas as pd\n",
    "from sklearn.model_selection import train_test_split\n",
    "from sklearn.preprocessing import StandardScaler\n",
    "\n",
    "#2. 데이터 불러오기\n",
    "df = pd.read_csv('Ashopping.csv', encoding = 'cp949')\n",
    "\n",
    "#3. 변수 지정(독립변수/종속변수)\n",
    "X = df[['총매출액', '거래기간', '방문빈도']]\n",
    "Y = df['이탈여부']\n",
    "\n",
    "#4. 데이터 분할(학습용/평가용 데이터 세트)\n",
    "X_train, X_test, Y_train, Y_test = train_test_split(X, Y, test_size=0.3, random_state=0)\n",
    "\n",
    "#5. 표준화 \n",
    "scaler = StandardScaler()\n",
    "scaler.fit(X_train)\n",
    "X_train = scaler.transform(X_train)\n",
    "X_test = scaler.transform(X_test)\n",
    "print(X_train)"
   ]
  },
  {
   "cell_type": "code",
   "execution_count": 2,
   "metadata": {},
   "outputs": [
    {
     "name": "stderr",
     "output_type": "stream",
     "text": [
      "Using TensorFlow backend.\n"
     ]
    },
    {
     "name": "stdout",
     "output_type": "stream",
     "text": [
      "Original dataset shape Counter({0: 700, 1: 300})\n",
      "sampled dataset shape Counter({0: 481, 1: 219})\n",
      "Resampled dataset shape Counter({1: 481, 0: 481})\n"
     ]
    }
   ],
   "source": [
    "#1. 모듈 및 함수 불러오기\n",
    "from imblearn.over_sampling import SMOTE\n",
    "from collections import Counter\n",
    "\n",
    "#2 오버 샘플링 \n",
    "smote = SMOTE(random_state=0)\n",
    "X_train_over, Y_train_over = smote.fit_sample(X_train, Y_train)\n",
    "\n",
    "#3. 결과 출력\n",
    "print('Original dataset shape %s' % Counter(Y))\n",
    "print('sampled dataset shape %s' % Counter(Y_train))\n",
    "print('Resampled dataset shape %s' % Counter(Y_train_over))\n"
   ]
  },
  {
   "cell_type": "markdown",
   "metadata": {},
   "source": [
    "- 모형 학습 및 예측"
   ]
  },
  {
   "cell_type": "code",
   "execution_count": 3,
   "metadata": {},
   "outputs": [
    {
     "name": "stdout",
     "output_type": "stream",
     "text": [
      "평가용 데이터 세트에 대한 예측 값\n",
      " [1 0 1 0 0 0 1 1 0 0 1 1 0 1 0 1 0 1 1 1 1 0 1 0 0 0 1 1 1 0 0 0 0 0 0 0 0\n",
      " 1 0 0 1 0 0 0 1 0 0 1 1 1 0 1 1 1 0 0 1 1 0 0 1 0 0 1 0 1 1 0 1 0 0 1 1 0\n",
      " 0 1 0 1 1 0 1 1 1 0 0 0 1 0 0 0 0 1 1 1 0 0 0 0 0 0 0 0 0 0 1 0 0 1 0 1 1\n",
      " 0 0 1 0 1 0 0 0 1 0 1 1 0 0 0 1 1 0 0 1 1 0 0 0 0 0 1 1 0 1 1 0 1 1 0 1 1\n",
      " 1 1 1 0 0 1 1 0 0 1 1 1 1 0 1 1 0 1 0 0 1 0 0 0 0 0 1 0 1 1 0 1 1 1 0 0 0\n",
      " 1 1 1 0 1 1 0 1 1 0 0 0 1 0 1 1 0 0 0 0 1 0 0 0 0 0 1 1 0 1 0 1 0 1 0 0 0\n",
      " 0 0 0 1 0 1 1 0 0 1 1 1 1 1 1 1 1 1 0 0 1 1 0 0 0 1 1 0 1 0 1 1 1 0 0 1 0\n",
      " 0 0 0 0 0 1 0 1 1 0 1 1 0 1 1 0 0 0 1 0 1 0 0 1 0 1 1 0 1 1 1 0 1 0 0 0 1\n",
      " 0 1 0 1]\n"
     ]
    }
   ],
   "source": [
    "#1. 모듈 및 함수 불러오기\n",
    "from sklearn.linear_model import LogisticRegression\n",
    "\n",
    "#2 모형 생성 \n",
    "model = LogisticRegression(C = 1 ,random_state=0) \n",
    "\n",
    "#3 모형 학습 및 예측\n",
    "model.fit(X_train_over, Y_train_over)\n",
    "Y_pred = model.predict(X_test)\n",
    "print('평가용 데이터 세트에 대한 예측 값\\n', Y_pred)\n"
   ]
  },
  {
   "cell_type": "markdown",
   "metadata": {},
   "source": [
    "- 모형 평가"
   ]
  },
  {
   "cell_type": "code",
   "execution_count": 4,
   "metadata": {},
   "outputs": [
    {
     "name": "stdout",
     "output_type": "stream",
     "text": [
      "학습용 데이터 세트 정확도: 0.710\n",
      "평가용 데이터 세트 정확도: 0.703\n"
     ]
    }
   ],
   "source": [
    "print('학습용 데이터 세트 정확도: {:.3f}'.format(model.score(X_train_over, Y_train_over)))\n",
    "print('평가용 데이터 세트 정확도: {:.3f}'.format(model.score(X_test, Y_test)))\n"
   ]
  },
  {
   "cell_type": "code",
   "execution_count": 5,
   "metadata": {},
   "outputs": [
    {
     "name": "stdout",
     "output_type": "stream",
     "text": [
      "              precision    recall  f1-score   support\n",
      "\n",
      "           0       0.91      0.66      0.77       219\n",
      "           1       0.47      0.81      0.60        81\n",
      "\n",
      "    accuracy                           0.70       300\n",
      "   macro avg       0.69      0.74      0.68       300\n",
      "weighted avg       0.79      0.70      0.72       300\n",
      "\n"
     ]
    }
   ],
   "source": [
    "#1. 모듈 및 함수 불러오기\n",
    "from sklearn.metrics import classification_report\n",
    "\n",
    "#2. 정밀도, 재현율, F1 스코어 출력\n",
    "print(classification_report(Y_test, Y_pred))"
   ]
  },
  {
   "cell_type": "markdown",
   "metadata": {},
   "source": [
    "- 회귀계수 출력"
   ]
  },
  {
   "cell_type": "code",
   "execution_count": 6,
   "metadata": {},
   "outputs": [
    {
     "name": "stdout",
     "output_type": "stream",
     "text": [
      "총매출액 회귀계수: -0.107, 거래기간 회귀계수: -0.584,방문빈도 회귀계수: -0.479\n"
     ]
    }
   ],
   "source": [
    "print('총매출액 회귀계수: {0:.3f}, 거래기간 회귀계수: {1:.3f},방문빈도 회귀계수: {2:.3f}'.format(model.coef_[0,0], model.coef_[0,1], model.coef_[0,2]))"
   ]
  },
  {
   "cell_type": "markdown",
   "metadata": {},
   "source": [
    "### [2] 다항 로지스틱 회귀분석"
   ]
  },
  {
   "cell_type": "markdown",
   "metadata": {},
   "source": [
    "- 변수 지정 및 전처리"
   ]
  },
  {
   "cell_type": "code",
   "execution_count": 7,
   "metadata": {},
   "outputs": [
    {
     "data": {
      "text/plain": [
       "array([[-0.4381059 ,  0.52039092, -0.72610502,  0.        ,  1.        ],\n",
       "       [ 0.03475125,  0.6181886 , -0.57683846,  0.        ,  1.        ],\n",
       "       [-0.96350273,  0.8044049 ,  0.42836222,  1.        ,  0.        ],\n",
       "       ...,\n",
       "       [-0.28048685,  0.67190908, -1.04760222,  1.        ,  0.        ],\n",
       "       [ 0.24490998, -2.47210367, -0.37224933,  1.        ,  0.        ],\n",
       "       [-0.28048685,  0.80004562, -2.15614129,  1.        ,  0.        ]])"
      ]
     },
     "execution_count": 7,
     "metadata": {},
     "output_type": "execute_result"
    }
   ],
   "source": [
    "#1. 모듈 및 함수 불러오기\n",
    "from sklearn.compose import ColumnTransformer\n",
    "from sklearn.preprocessing import OneHotEncoder\n",
    "\n",
    "#2. 변수 지정(독립변수/종속변수) \n",
    "X =df[['방문빈도', '총 할인 금액', '거래기간', '할인민감여부']]\n",
    "Y = df['구매금액대']\n",
    "\n",
    "#.3 데이터 분할(학습용/ 평가용 데이터 세트)\n",
    "X_train, X_test, Y_train, Y_test = train_test_split(X, Y, test_size=0.3, random_state=0)\n",
    "\n",
    "\n",
    "#4. 표준화 및 원핫인코딩\n",
    "ct = ColumnTransformer([('scaling', StandardScaler(), ['방문빈도', '총 할인 금액', '거래기간']),\n",
    "                        ('onehot', OneHotEncoder(sparse = False),['할인민감여부'])])\n",
    "ct.fit(X_train)\n",
    "X_train=ct.transform(X_train)\n",
    "X_test=ct.transform(X_test)\n",
    "X_test"
   ]
  },
  {
   "cell_type": "markdown",
   "metadata": {},
   "source": [
    "- 모형 학습 및 예측"
   ]
  },
  {
   "cell_type": "code",
   "execution_count": 12,
   "metadata": {},
   "outputs": [
    {
     "name": "stdout",
     "output_type": "stream",
     "text": [
      "평가용 데이터 세트에 대한 예측값\n",
      " [0 2 0 2 2 2 1 0 0 0 0 0 1 0 2 0 0 0 0 0 0 0 0 0 0 0 0 0 0 1 2 1 0 2 0 0 0\n",
      " 0 2 0 0 0 0 0 0 1 0 0 0 1 2 0 0 0 2 0 0 0 2 2 0 2 0 0 0 0 2 0 0 1 2 0 0 0\n",
      " 0 0 0 0 0 0 0 0 0 0 2 0 0 0 0 1 0 0 0 0 0 2 2 1 0 0 1 0 0 2 0 2 2 2 2 0 0\n",
      " 2 0 0 0 0 0 2 0 0 0 0 0 0 0 1 0 0 1 0 0 0 0 2 0 2 0 0 0 0 0 0 0 0 0 0 0 0\n",
      " 2 0 0 0 0 0 0 0 0 0 0 0 0 0 0 0 0 0 0 2 0 1 0 0 1 0 0 0 0 0 2 0 2 0 0 0 0\n",
      " 0 0 2 0 0 0 0 0 0 0 1 2 0 0 0 0 1 0 1 2 1 2 0 0 0 1 0 0 0 0 0 0 0 0 0 2 0\n",
      " 1 0 0 2 0 0 0 2 0 0 0 0 0 0 2 0 0 2 0 2 0 0 2 1 2 0 2 0 0 0 0 0 0 0 0 0 0\n",
      " 0 2 1 1 1 0 0 0 0 2 0 2 0 0 0 0 1 0 0 0 0 0 2 0 0 0 0 2 0 0 0 0 0 0 0 0 0\n",
      " 0 0 0 0]\n"
     ]
    }
   ],
   "source": [
    "#1. 모형 생성\n",
    "model=LogisticRegression(random_state=0,C=0.1,solver='newton-cg', multi_class='multinomial')\n",
    "\n",
    "#2. 모형 학습 및 예측\n",
    "model.fit(X_train, Y_train)\n",
    "Y_pred = model.predict(X_test)\n",
    "print('평가용 데이터 세트에 대한 예측값\\n', Y_pred)"
   ]
  },
  {
   "cell_type": "markdown",
   "metadata": {},
   "source": [
    "- 모형 평가"
   ]
  },
  {
   "cell_type": "code",
   "execution_count": 13,
   "metadata": {},
   "outputs": [
    {
     "name": "stdout",
     "output_type": "stream",
     "text": [
      "학습용 데이터 세트 정확도: 0.606\n",
      "평가용 데이터 세트 정확도: 0.607\n"
     ]
    }
   ],
   "source": [
    "#1. 정확도 평가\n",
    "print('학습용 데이터 세트 정확도: {:.3f}'.format(model.score(X_train, Y_train)))\n",
    "print('평가용 데이터 세트 정확도: {:.3f}'.format(model.score(X_test, Y_test)))\n"
   ]
  },
  {
   "cell_type": "code",
   "execution_count": 14,
   "metadata": {},
   "outputs": [
    {
     "name": "stdout",
     "output_type": "stream",
     "text": [
      "              precision    recall  f1-score   support\n",
      "\n",
      "           0       0.61      0.89      0.72       154\n",
      "           1       0.40      0.12      0.19        82\n",
      "           2       0.71      0.55      0.62        64\n",
      "\n",
      "    accuracy                           0.61       300\n",
      "   macro avg       0.57      0.52      0.51       300\n",
      "weighted avg       0.57      0.61      0.55       300\n",
      "\n"
     ]
    }
   ],
   "source": [
    "print(classification_report(Y_test, Y_pred))"
   ]
  },
  {
   "cell_type": "markdown",
   "metadata": {},
   "source": [
    "- 회귀계수 출력"
   ]
  },
  {
   "cell_type": "code",
   "execution_count": 11,
   "metadata": {},
   "outputs": [
    {
     "name": "stdout",
     "output_type": "stream",
     "text": [
      "---구매금액대 0의 회귀계수---\n",
      " 방문빈도 회귀계수: -0.632, 총 할인 금액 회귀계수: -0.037, 거래기간: 0.113, 할인민감여부_1: -0.435\n",
      "---구매금액대 1의 회귀계수---\n",
      " 방문빈도 회귀계수: 0.089, 총 할인 금액 회귀계수: 0.013, 거래기간: 0.088, 할인민감여부_1: -0.223\n",
      "---구매금액대 2의 회귀계수---\n",
      " 방문빈도 회귀계수: 0.543, 총 할인 금액 회귀계수: 0.024, 거래기간: -0.201, 할인민감여부_1: 0.658\n"
     ]
    }
   ],
   "source": [
    "print('---구매금액대 0의 회귀계수---')\n",
    "print('방문빈도 회귀계수: {0:.3f}, 총 할인 금액 회귀계수: {1:.3f}, 거래기간: {2:.3f}, 할인민감여부_1: {3:.3f}'.format(model.coef_[0,0], model.coef_[0,1], model.coef_[0,2], model.coef_[0,4]))\n",
    "\n",
    "print('---구매금액대 1의 회귀계수---')\n",
    "print('방문빈도 회귀계수: {0:.3f}, 총 할인 금액 회귀계수: {1:.3f}, 거래기간: {2:.3f}, 할인민감여부_1: {3:.3f}'.format(model.coef_[1,0], model.coef_[1,1], model.coef_[1,2], model.coef_[1,4]))\n",
    "\n",
    "print('---구매금액대 2의 회귀계수---')\n",
    "print('방문빈도 회귀계수: {0:.3f}, 총 할인 금액 회귀계수: {1:.3f}, 거래기간: {2:.3f}, 할인민감여부_1: {3:.3f}'.format(model.coef_[2,0], model.coef_[2,1], model.coef_[2,2], model.coef_[2,4]))\n"
   ]
  }
 ],
 "metadata": {
  "kernelspec": {
   "display_name": "Python 3",
   "language": "python",
   "name": "python3"
  },
  "language_info": {
   "codemirror_mode": {
    "name": "ipython",
    "version": 3
   },
   "file_extension": ".py",
   "mimetype": "text/x-python",
   "name": "python",
   "nbconvert_exporter": "python",
   "pygments_lexer": "ipython3",
   "version": "3.7.4"
  }
 },
 "nbformat": 4,
 "nbformat_minor": 2
}
