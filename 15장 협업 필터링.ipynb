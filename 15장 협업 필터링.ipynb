{
 "cells": [
  {
   "cell_type": "markdown",
   "metadata": {},
   "source": [
    "## 15장 협업 필터링"
   ]
  },
  {
   "cell_type": "markdown",
   "metadata": {},
   "source": [
    "### (1) 사용자 기반 협업 필터링 실습"
   ]
  },
  {
   "cell_type": "markdown",
   "metadata": {},
   "source": [
    "- 데이터 살펴보기"
   ]
  },
  {
   "cell_type": "code",
   "execution_count": 1,
   "metadata": {},
   "outputs": [],
   "source": [
    "#1. 모듈 및 함수 불러오기\n",
    "from surprise import Dataset\n",
    "\n",
    "#2. 데이터 로딩\n",
    "data=Dataset.load_builtin('ml-100k')"
   ]
  },
  {
   "cell_type": "code",
   "execution_count": 2,
   "metadata": {},
   "outputs": [
    {
     "data": {
      "text/html": [
       "<div>\n",
       "<style scoped>\n",
       "    .dataframe tbody tr th:only-of-type {\n",
       "        vertical-align: middle;\n",
       "    }\n",
       "\n",
       "    .dataframe tbody tr th {\n",
       "        vertical-align: top;\n",
       "    }\n",
       "\n",
       "    .dataframe thead th {\n",
       "        text-align: right;\n",
       "    }\n",
       "</style>\n",
       "<table border=\"1\" class=\"dataframe\">\n",
       "  <thead>\n",
       "    <tr style=\"text-align: right;\">\n",
       "      <th></th>\n",
       "      <th>user</th>\n",
       "      <th>item</th>\n",
       "      <th>rate</th>\n",
       "      <th>timestamp</th>\n",
       "    </tr>\n",
       "  </thead>\n",
       "  <tbody>\n",
       "    <tr>\n",
       "      <td>0</td>\n",
       "      <td>196</td>\n",
       "      <td>242</td>\n",
       "      <td>3.0</td>\n",
       "      <td>881250949</td>\n",
       "    </tr>\n",
       "    <tr>\n",
       "      <td>1</td>\n",
       "      <td>186</td>\n",
       "      <td>302</td>\n",
       "      <td>3.0</td>\n",
       "      <td>891717742</td>\n",
       "    </tr>\n",
       "    <tr>\n",
       "      <td>2</td>\n",
       "      <td>22</td>\n",
       "      <td>377</td>\n",
       "      <td>1.0</td>\n",
       "      <td>878887116</td>\n",
       "    </tr>\n",
       "    <tr>\n",
       "      <td>3</td>\n",
       "      <td>244</td>\n",
       "      <td>51</td>\n",
       "      <td>2.0</td>\n",
       "      <td>880606923</td>\n",
       "    </tr>\n",
       "    <tr>\n",
       "      <td>4</td>\n",
       "      <td>166</td>\n",
       "      <td>346</td>\n",
       "      <td>1.0</td>\n",
       "      <td>886397596</td>\n",
       "    </tr>\n",
       "  </tbody>\n",
       "</table>\n",
       "</div>"
      ],
      "text/plain": [
       "  user item  rate  timestamp\n",
       "0  196  242   3.0  881250949\n",
       "1  186  302   3.0  891717742\n",
       "2   22  377   1.0  878887116\n",
       "3  244   51   2.0  880606923\n",
       "4  166  346   1.0  886397596"
      ]
     },
     "execution_count": 2,
     "metadata": {},
     "output_type": "execute_result"
    }
   ],
   "source": [
    "import pandas as pd\n",
    "ratings = pd.DataFrame(data.raw_ratings, columns=['user', 'item', 'rate', 'timestamp'])\n",
    "ratings.head()"
   ]
  },
  {
   "cell_type": "code",
   "execution_count": 3,
   "metadata": {},
   "outputs": [
    {
     "name": "stdout",
     "output_type": "stream",
     "text": [
      "(943, 5)\n"
     ]
    },
    {
     "data": {
      "text/html": [
       "<div>\n",
       "<style scoped>\n",
       "    .dataframe tbody tr th:only-of-type {\n",
       "        vertical-align: middle;\n",
       "    }\n",
       "\n",
       "    .dataframe tbody tr th {\n",
       "        vertical-align: top;\n",
       "    }\n",
       "\n",
       "    .dataframe thead th {\n",
       "        text-align: right;\n",
       "    }\n",
       "</style>\n",
       "<table border=\"1\" class=\"dataframe\">\n",
       "  <thead>\n",
       "    <tr style=\"text-align: right;\">\n",
       "      <th></th>\n",
       "      <th>user_id</th>\n",
       "      <th>age</th>\n",
       "      <th>sex</th>\n",
       "      <th>occupation</th>\n",
       "      <th>zip_code</th>\n",
       "    </tr>\n",
       "  </thead>\n",
       "  <tbody>\n",
       "    <tr>\n",
       "      <td>0</td>\n",
       "      <td>1</td>\n",
       "      <td>24</td>\n",
       "      <td>M</td>\n",
       "      <td>technician</td>\n",
       "      <td>85711</td>\n",
       "    </tr>\n",
       "    <tr>\n",
       "      <td>1</td>\n",
       "      <td>2</td>\n",
       "      <td>53</td>\n",
       "      <td>F</td>\n",
       "      <td>other</td>\n",
       "      <td>94043</td>\n",
       "    </tr>\n",
       "    <tr>\n",
       "      <td>2</td>\n",
       "      <td>3</td>\n",
       "      <td>23</td>\n",
       "      <td>M</td>\n",
       "      <td>writer</td>\n",
       "      <td>32067</td>\n",
       "    </tr>\n",
       "    <tr>\n",
       "      <td>3</td>\n",
       "      <td>4</td>\n",
       "      <td>24</td>\n",
       "      <td>M</td>\n",
       "      <td>technician</td>\n",
       "      <td>43537</td>\n",
       "    </tr>\n",
       "    <tr>\n",
       "      <td>4</td>\n",
       "      <td>5</td>\n",
       "      <td>33</td>\n",
       "      <td>F</td>\n",
       "      <td>other</td>\n",
       "      <td>15213</td>\n",
       "    </tr>\n",
       "  </tbody>\n",
       "</table>\n",
       "</div>"
      ],
      "text/plain": [
       "   user_id  age sex  occupation zip_code\n",
       "0        1   24   M  technician    85711\n",
       "1        2   53   F       other    94043\n",
       "2        3   23   M      writer    32067\n",
       "3        4   24   M  technician    43537\n",
       "4        5   33   F       other    15213"
      ]
     },
     "execution_count": 3,
     "metadata": {},
     "output_type": "execute_result"
    }
   ],
   "source": [
    "#사용자 정보 출력\n",
    "u_cols = ['user_id', 'age', 'sex', 'occupation', 'zip_code']\n",
    "users = pd.read_csv('u.user', sep='|', names=u_cols)\n",
    "print(users.shape)\n",
    "users.head()"
   ]
  },
  {
   "cell_type": "code",
   "execution_count": 4,
   "metadata": {},
   "outputs": [
    {
     "name": "stdout",
     "output_type": "stream",
     "text": [
      "(1682, 5)\n"
     ]
    },
    {
     "data": {
      "text/html": [
       "<div>\n",
       "<style scoped>\n",
       "    .dataframe tbody tr th:only-of-type {\n",
       "        vertical-align: middle;\n",
       "    }\n",
       "\n",
       "    .dataframe tbody tr th {\n",
       "        vertical-align: top;\n",
       "    }\n",
       "\n",
       "    .dataframe thead th {\n",
       "        text-align: right;\n",
       "    }\n",
       "</style>\n",
       "<table border=\"1\" class=\"dataframe\">\n",
       "  <thead>\n",
       "    <tr style=\"text-align: right;\">\n",
       "      <th></th>\n",
       "      <th>movie_id</th>\n",
       "      <th>title</th>\n",
       "      <th>release_date</th>\n",
       "      <th>video_release_date</th>\n",
       "      <th>imdb_url</th>\n",
       "    </tr>\n",
       "  </thead>\n",
       "  <tbody>\n",
       "    <tr>\n",
       "      <td>0</td>\n",
       "      <td>1</td>\n",
       "      <td>Toy Story (1995)</td>\n",
       "      <td>01-Jan-1995</td>\n",
       "      <td>NaN</td>\n",
       "      <td>http://us.imdb.com/M/title-exact?Toy%20Story%2...</td>\n",
       "    </tr>\n",
       "    <tr>\n",
       "      <td>1</td>\n",
       "      <td>2</td>\n",
       "      <td>GoldenEye (1995)</td>\n",
       "      <td>01-Jan-1995</td>\n",
       "      <td>NaN</td>\n",
       "      <td>http://us.imdb.com/M/title-exact?GoldenEye%20(...</td>\n",
       "    </tr>\n",
       "    <tr>\n",
       "      <td>2</td>\n",
       "      <td>3</td>\n",
       "      <td>Four Rooms (1995)</td>\n",
       "      <td>01-Jan-1995</td>\n",
       "      <td>NaN</td>\n",
       "      <td>http://us.imdb.com/M/title-exact?Four%20Rooms%...</td>\n",
       "    </tr>\n",
       "    <tr>\n",
       "      <td>3</td>\n",
       "      <td>4</td>\n",
       "      <td>Get Shorty (1995)</td>\n",
       "      <td>01-Jan-1995</td>\n",
       "      <td>NaN</td>\n",
       "      <td>http://us.imdb.com/M/title-exact?Get%20Shorty%...</td>\n",
       "    </tr>\n",
       "    <tr>\n",
       "      <td>4</td>\n",
       "      <td>5</td>\n",
       "      <td>Copycat (1995)</td>\n",
       "      <td>01-Jan-1995</td>\n",
       "      <td>NaN</td>\n",
       "      <td>http://us.imdb.com/M/title-exact?Copycat%20(1995)</td>\n",
       "    </tr>\n",
       "  </tbody>\n",
       "</table>\n",
       "</div>"
      ],
      "text/plain": [
       "   movie_id              title release_date  video_release_date  \\\n",
       "0         1   Toy Story (1995)  01-Jan-1995                 NaN   \n",
       "1         2   GoldenEye (1995)  01-Jan-1995                 NaN   \n",
       "2         3  Four Rooms (1995)  01-Jan-1995                 NaN   \n",
       "3         4  Get Shorty (1995)  01-Jan-1995                 NaN   \n",
       "4         5     Copycat (1995)  01-Jan-1995                 NaN   \n",
       "\n",
       "                                            imdb_url  \n",
       "0  http://us.imdb.com/M/title-exact?Toy%20Story%2...  \n",
       "1  http://us.imdb.com/M/title-exact?GoldenEye%20(...  \n",
       "2  http://us.imdb.com/M/title-exact?Four%20Rooms%...  \n",
       "3  http://us.imdb.com/M/title-exact?Get%20Shorty%...  \n",
       "4  http://us.imdb.com/M/title-exact?Copycat%20(1995)  "
      ]
     },
     "execution_count": 4,
     "metadata": {},
     "output_type": "execute_result"
    }
   ],
   "source": [
    "#영화 정보 출력\n",
    "m_cols = ['movie_id', 'title', 'release_date', 'video_release_date', 'imdb_url']\n",
    "movies = pd.read_csv('u.item', sep='|', names=m_cols, usecols=range(5), encoding = \"latin1\")\n",
    "print(movies.shape)\n",
    "movies.head()\n"
   ]
  },
  {
   "cell_type": "markdown",
   "metadata": {},
   "source": [
    "- 모형 학습 및 예측"
   ]
  },
  {
   "cell_type": "code",
   "execution_count": 5,
   "metadata": {},
   "outputs": [
    {
     "name": "stdout",
     "output_type": "stream",
     "text": [
      "Computing the msd similarity matrix...\n",
      "Done computing similarity matrix.\n"
     ]
    },
    {
     "data": {
      "text/plain": [
       "[Prediction(uid='468', iid='160', r_ui=3.0, est=3.516481083643673, details={'actual_k': 40, 'was_impossible': False}),\n",
       " Prediction(uid='215', iid='195', r_ui=5.0, est=4.1433505276160325, details={'actual_k': 40, 'was_impossible': False}),\n",
       " Prediction(uid='790', iid='1185', r_ui=2.0, est=2.4311249843348057, details={'actual_k': 12, 'was_impossible': False})]"
      ]
     },
     "execution_count": 5,
     "metadata": {},
     "output_type": "execute_result"
    }
   ],
   "source": [
    "#1. 모듈 및 함수 불러오기\n",
    "from surprise.model_selection import train_test_split\n",
    "from surprise import KNNBasic\n",
    "\n",
    "#2. 데이터 분할(학습용/평가용 데이터 세트)\n",
    "trainset, testset = train_test_split(data, test_size=0.3, random_state=0)\n",
    "\n",
    "#3. 모형 학습 및 예측\n",
    "model = KNNBasic(name = 'cosine', user_base=True)\n",
    "predictions = model.fit(trainset).test(testset)\n",
    "predictions[:3]"
   ]
  },
  {
   "cell_type": "markdown",
   "metadata": {},
   "source": [
    "- 모형 평가"
   ]
  },
  {
   "cell_type": "code",
   "execution_count": 6,
   "metadata": {},
   "outputs": [
    {
     "name": "stdout",
     "output_type": "stream",
     "text": [
      "RMSE: 0.9922\n"
     ]
    }
   ],
   "source": [
    "from surprise import accuracy\n",
    "rmse = accuracy.rmse(predictions)"
   ]
  },
  {
   "cell_type": "markdown",
   "metadata": {},
   "source": [
    "- 고객별 추천 영화 리스트 출력"
   ]
  },
  {
   "cell_type": "code",
   "execution_count": 7,
   "metadata": {},
   "outputs": [
    {
     "name": "stdout",
     "output_type": "stream",
     "text": [
      "-----고객별 추천 영화 리스트-----\n",
      "#고객 ID: 468\n",
      "Prefontaine (1997) : 5\n",
      "Star Kid (1997) : 5\n",
      "The Deadly Cure (1996) : 5\n",
      "#고객 ID: 215\n",
      "They Made Me a Criminal (1939) : 5\n",
      "Prefontaine (1997) : 5\n",
      "Star Kid (1997) : 5\n",
      "#고객 ID: 790\n",
      "They Made Me a Criminal (1939) : 5\n",
      "Prefontaine (1997) : 5\n",
      "The Deadly Cure (1996) : 5\n",
      "#고객 ID: 498\n",
      "They Made Me a Criminal (1939) : 5\n",
      "Prefontaine (1997) : 5\n",
      "Star Kid (1997) : 5\n",
      "#고객 ID: 199\n",
      "Two or Three Things I Know About Her (1966) : 5\n",
      "They Made Me a Criminal (1939) : 5\n",
      "Prefontaine (1997) : 5\n",
      "#고객 ID: 314\n",
      "They Made Me a Criminal (1939) : 5\n",
      "Prefontaine (1997) : 5\n",
      "Star Kid (1997) : 5\n",
      "#고객 ID: 533\n",
      "They Made Me a Criminal (1939) : 5\n",
      "Prefontaine (1997) : 5\n",
      "Star Kid (1997) : 5\n",
      "#고객 ID: 541\n",
      "They Made Me a Criminal (1939) : 5\n",
      "Prefontaine (1997) : 5\n",
      "The Deadly Cure (1996) : 5\n",
      "#고객 ID: 710\n",
      "They Made Me a Criminal (1939) : 5\n",
      "Prefontaine (1997) : 5\n",
      "Star Kid (1997) : 5\n",
      "#고객 ID: 26\n",
      "They Made Me a Criminal (1939) : 5\n",
      "Prefontaine (1997) : 5\n",
      "Star Kid (1997) : 5\n"
     ]
    }
   ],
   "source": [
    "def recommend(predictions, n, k):\n",
    "    print(\"-----고객별 추천 영화 리스트-----\")\n",
    "\n",
    "    #2. n명의 고객 ID 추출\n",
    "    uids = [pred.uid for pred in predictions][:n]\n",
    "\n",
    "#3. 고객별 추천 리스트 출력\n",
    "    for uid in uids:\n",
    "\n",
    "#3-1. 고객이 관람하지 않은 영화 추출\n",
    "        seen_movies = ratings[ratings.user== uid]['item'].tolist()\n",
    "        total_movies=movies['movie_id'].tolist()\n",
    "        unseen_movies=[movie for movie in total_movies if movie not in seen_movies]\n",
    "\n",
    "#3-2. k개의 미관람 영화에 대한 평점 예측\n",
    "        pred=[model.predict(str(uid), str(item)) for item in unseen_movies]\n",
    "        pred.sort(key=lambda pred: pred[3], reverse=True)\n",
    "        top_pred=pred[:k]\n",
    "\n",
    "#3-3. 예측 결과로부터 영화 ID, 제목, 예측 평점 추출\n",
    "        top_ids = [int(pred.iid) for pred in top_pred]\n",
    "        top_titles = movies[movies.movie_id.isin(top_ids)]['title']\n",
    "        top_rating = [pred.est for pred in top_pred]\n",
    "        top_preds=[(id, title, rating) for id, title, rating in zip(top_ids, top_titles, top_rating)]\n",
    "\n",
    "#3-4. 추천 리스트 출력\n",
    "        print(\"#고객 ID:\", uid)\n",
    "        for top_movie in top_preds:\n",
    "            print(top_movie[1], \":\", top_movie[2])\n",
    "\n",
    "#4. 함수 호출\n",
    "recommend(predictions, 10, 3)"
   ]
  },
  {
   "cell_type": "markdown",
   "metadata": {},
   "source": [
    "### (2) 아이템 기반 협업 필터링 실습"
   ]
  },
  {
   "cell_type": "markdown",
   "metadata": {},
   "source": [
    "- 모형 학습 및 예측"
   ]
  },
  {
   "cell_type": "code",
   "execution_count": 8,
   "metadata": {},
   "outputs": [
    {
     "name": "stdout",
     "output_type": "stream",
     "text": [
      "Computing the msd similarity matrix...\n",
      "Done computing similarity matrix.\n"
     ]
    },
    {
     "data": {
      "text/plain": [
       "[Prediction(uid='468', iid='160', r_ui=3.0, est=3.516481083643673, details={'actual_k': 40, 'was_impossible': False}),\n",
       " Prediction(uid='215', iid='195', r_ui=5.0, est=4.1433505276160325, details={'actual_k': 40, 'was_impossible': False}),\n",
       " Prediction(uid='790', iid='1185', r_ui=2.0, est=2.4311249843348057, details={'actual_k': 12, 'was_impossible': False})]"
      ]
     },
     "execution_count": 8,
     "metadata": {},
     "output_type": "execute_result"
    }
   ],
   "source": [
    "model = KNNBasic(name = 'cosine', user_base=False)\n",
    "predictions = model.fit(trainset).test(testset)\n",
    "predictions[:3]"
   ]
  },
  {
   "cell_type": "markdown",
   "metadata": {},
   "source": [
    "- 모형 평가"
   ]
  },
  {
   "cell_type": "code",
   "execution_count": 9,
   "metadata": {},
   "outputs": [
    {
     "name": "stdout",
     "output_type": "stream",
     "text": [
      "RMSE: 0.9922\n"
     ]
    }
   ],
   "source": [
    "rmse = accuracy.rmse(predictions)"
   ]
  },
  {
   "cell_type": "markdown",
   "metadata": {},
   "source": [
    "- 고객별 추천 영화 리스트 출력"
   ]
  },
  {
   "cell_type": "code",
   "execution_count": 10,
   "metadata": {},
   "outputs": [
    {
     "name": "stdout",
     "output_type": "stream",
     "text": [
      "-----고객별 추천 영화 리스트-----\n",
      "#고객 ID: 468\n",
      "Prefontaine (1997) : 5\n",
      "Star Kid (1997) : 5\n",
      "The Deadly Cure (1996) : 5\n",
      "#고객 ID: 215\n",
      "They Made Me a Criminal (1939) : 5\n",
      "Prefontaine (1997) : 5\n",
      "Star Kid (1997) : 5\n",
      "#고객 ID: 790\n",
      "They Made Me a Criminal (1939) : 5\n",
      "Prefontaine (1997) : 5\n",
      "The Deadly Cure (1996) : 5\n",
      "#고객 ID: 498\n",
      "They Made Me a Criminal (1939) : 5\n",
      "Prefontaine (1997) : 5\n",
      "Star Kid (1997) : 5\n",
      "#고객 ID: 199\n",
      "Two or Three Things I Know About Her (1966) : 5\n",
      "They Made Me a Criminal (1939) : 5\n",
      "Prefontaine (1997) : 5\n",
      "#고객 ID: 314\n",
      "They Made Me a Criminal (1939) : 5\n",
      "Prefontaine (1997) : 5\n",
      "Star Kid (1997) : 5\n",
      "#고객 ID: 533\n",
      "They Made Me a Criminal (1939) : 5\n",
      "Prefontaine (1997) : 5\n",
      "Star Kid (1997) : 5\n",
      "#고객 ID: 541\n",
      "They Made Me a Criminal (1939) : 5\n",
      "Prefontaine (1997) : 5\n",
      "The Deadly Cure (1996) : 5\n",
      "#고객 ID: 710\n",
      "They Made Me a Criminal (1939) : 5\n",
      "Prefontaine (1997) : 5\n",
      "Star Kid (1997) : 5\n",
      "#고객 ID: 26\n",
      "They Made Me a Criminal (1939) : 5\n",
      "Prefontaine (1997) : 5\n",
      "Star Kid (1997) : 5\n"
     ]
    }
   ],
   "source": [
    "recommend(predictions, 10, 3)"
   ]
  },
  {
   "cell_type": "markdown",
   "metadata": {},
   "source": [
    "### (3) 잠재요인 모델 기반 협업 필터링"
   ]
  },
  {
   "cell_type": "markdown",
   "metadata": {},
   "source": [
    "- 모형 학습 및 예측"
   ]
  },
  {
   "cell_type": "code",
   "execution_count": 11,
   "metadata": {},
   "outputs": [
    {
     "data": {
      "text/plain": [
       "[Prediction(uid='468', iid='160', r_ui=3.0, est=3.7421366112970325, details={'was_impossible': False}),\n",
       " Prediction(uid='215', iid='195', r_ui=5.0, est=3.4982494019950483, details={'was_impossible': False}),\n",
       " Prediction(uid='790', iid='1185', r_ui=2.0, est=2.5845592338149297, details={'was_impossible': False})]"
      ]
     },
     "execution_count": 11,
     "metadata": {},
     "output_type": "execute_result"
    }
   ],
   "source": [
    "#1. 모듈 및 함수 임포트\n",
    "from surprise import SVD\n",
    "\n",
    "#2. 모형 학습 및 예측\n",
    "model = SVD(n_factors=100, random_state=0)\n",
    "predictions=model.fit(trainset).test(testset)\n",
    "predictions[:3]\n"
   ]
  },
  {
   "cell_type": "markdown",
   "metadata": {},
   "source": [
    "- 모형 평가"
   ]
  },
  {
   "cell_type": "code",
   "execution_count": 12,
   "metadata": {},
   "outputs": [
    {
     "name": "stdout",
     "output_type": "stream",
     "text": [
      "RMSE: 0.9484\n"
     ]
    }
   ],
   "source": [
    "rmse = accuracy.rmse(predictions)"
   ]
  },
  {
   "cell_type": "markdown",
   "metadata": {},
   "source": [
    "- 고객별 추천 영화 리스트 출력"
   ]
  },
  {
   "cell_type": "code",
   "execution_count": 13,
   "metadata": {},
   "outputs": [
    {
     "name": "stdout",
     "output_type": "stream",
     "text": [
      "-----고객별 추천 영화 리스트-----\n",
      "#고객 ID: 468\n",
      "12 Angry Men (1957) : 5\n",
      "Schindler's List (1993) : 4.875501997795706\n",
      "Close Shave, A (1995) : 4.839917736964194\n",
      "#고객 ID: 215\n",
      "Silence of the Lambs, The (1991) : 4.672580913926415\n",
      "Good Will Hunting (1997) : 4.632480177519761\n",
      "It's a Wonderful Life (1946) : 4.625783972240234\n",
      "#고객 ID: 790\n",
      "Shawshank Redemption, The (1994) : 4.348261881599786\n",
      "Raiders of the Lost Ark (1981) : 4.346463189971051\n",
      "Close Shave, A (1995) : 4.237583320802747\n",
      "#고객 ID: 498\n",
      "Schindler's List (1993) : 4.103138110201718\n",
      "Dr. Strangelove or: How I Learned to Stop Worrying and Love the Bomb (1963) : 4.071671843603244\n",
      "Dead Man (1995) : 4.021191044582526\n",
      "#고객 ID: 199\n",
      "Citizen Kane (1941) : 4.204582105333165\n",
      "Wrong Trousers, The (1993) : 4.0337041968338845\n",
      "Casablanca (1942) : 4.0058216284341945\n",
      "#고객 ID: 314\n",
      "Jurassic Park (1993) : 5\n",
      "Top Gun (1986) : 5\n",
      "Back to the Future (1985) : 5\n",
      "#고객 ID: 533\n",
      "Forrest Gump (1994) : 4.562032263019287\n",
      "Silence of the Lambs, The (1991) : 4.5204146126743066\n",
      "Raiders of the Lost Ark (1981) : 4.516527634681768\n",
      "#고객 ID: 541\n",
      "12 Angry Men (1957) : 4.863725715379566\n",
      "Schindler's List (1993) : 4.776862799300216\n",
      "Casablanca (1942) : 4.6999743863064\n",
      "#고객 ID: 710\n",
      "Godfather, The (1972) : 4.565728936958003\n",
      "To Kill a Mockingbird (1962) : 4.513429325789151\n",
      "Casablanca (1942) : 4.4517329883332275\n",
      "#고객 ID: 26\n",
      "Shawshank Redemption, The (1994) : 4.3969895103146674\n",
      "Wallace & Gromit: The Best of Aardman Animation (1996) : 4.207672458103612\n",
      "Rear Window (1954) : 4.15501931320639\n"
     ]
    }
   ],
   "source": [
    "recommend(predictions, 10, 3)"
   ]
  }
 ],
 "metadata": {
  "kernelspec": {
   "display_name": "Python 3",
   "language": "python",
   "name": "python3"
  },
  "language_info": {
   "codemirror_mode": {
    "name": "ipython",
    "version": 3
   },
   "file_extension": ".py",
   "mimetype": "text/x-python",
   "name": "python",
   "nbconvert_exporter": "python",
   "pygments_lexer": "ipython3",
   "version": "3.7.4"
  }
 },
 "nbformat": 4,
 "nbformat_minor": 2
}
