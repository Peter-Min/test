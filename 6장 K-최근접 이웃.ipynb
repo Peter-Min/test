{
 "cells": [
  {
   "cell_type": "markdown",
   "metadata": {},
   "source": [
    "## K-최근접 이웃"
   ]
  },
  {
   "cell_type": "markdown",
   "metadata": {},
   "source": [
    "### (1) 이항 분류 예측 실습"
   ]
  },
  {
   "cell_type": "markdown",
   "metadata": {},
   "source": [
    "- 변수 지정 및 전처리"
   ]
  },
  {
   "cell_type": "code",
   "execution_count": 1,
   "metadata": {},
   "outputs": [
    {
     "name": "stderr",
     "output_type": "stream",
     "text": [
      "Using TensorFlow backend.\n"
     ]
    }
   ],
   "source": [
    "#1. 모듈 및 함수 불러오기\n",
    "import pandas as pd\n",
    "from sklearn.model_selection import train_test_split\n",
    "from sklearn.preprocessing import StandardScaler\n",
    "from imblearn.over_sampling import SMOTE\n",
    "\n",
    "#2. 데이터 불러오기\n",
    "df = pd.read_csv('Ashopping.csv', encoding = 'cp949')\n",
    "\n",
    "#3. 변수 지정(종속변수/독립변수)\n",
    "X = df[['총매출액', '방문빈도', '1회 평균매출액', '거래기간', '평균 구매주기']]\n",
    "Y = df['이탈여부']\n",
    "\n",
    "#4. 데이터 분할(학습용/평가용 데이터 세트)\n",
    "X_train, X_test, Y_train, Y_test = train_test_split(X, Y, test_size=0.3, random_state=0)\n",
    "\n",
    "#5. 표준화\n",
    "scaler = StandardScaler().fit(X_train)\n",
    "X_test = scaler.transform(X_test)\n",
    "X_train = scaler.transform(X_train)\n",
    "\n",
    "#6. 오버 샘플링\n",
    "X_train, Y_train = SMOTE(random_state=0).fit_sample(X_train, Y_train)"
   ]
  },
  {
   "cell_type": "markdown",
   "metadata": {},
   "source": [
    "- 모형 학습 및 예측"
   ]
  },
  {
   "cell_type": "code",
   "execution_count": 2,
   "metadata": {},
   "outputs": [
    {
     "name": "stdout",
     "output_type": "stream",
     "text": [
      "평가용 데이터 세트에 대한 예측 값:\n",
      " [1 1 1 0 0 0 1 1 1 0 1 0 0 1 0 1 0 1 1 1 1 0 0 1 0 0 0 1 1 0 0 0 0 0 0 0 0\n",
      " 1 0 1 1 0 0 1 1 0 0 1 1 0 0 1 1 0 0 0 1 0 0 1 1 0 1 1 0 1 1 0 1 1 0 1 0 1\n",
      " 0 0 0 0 1 0 1 1 1 0 0 0 1 0 0 1 0 0 0 0 1 0 0 1 0 1 0 0 1 0 1 0 0 0 0 1 1\n",
      " 0 0 1 1 0 1 1 0 0 0 0 0 0 1 0 1 1 0 0 1 0 0 0 0 0 1 1 1 0 0 1 1 1 1 0 1 0\n",
      " 0 0 0 1 0 0 0 0 0 1 0 1 0 0 1 1 0 0 0 0 1 1 0 0 0 0 0 0 1 1 0 1 1 0 0 0 0\n",
      " 1 0 1 0 1 0 0 0 1 0 0 1 1 0 0 1 0 1 0 0 0 0 0 0 0 1 1 1 0 0 0 1 1 0 0 0 0\n",
      " 0 1 1 1 0 0 1 1 0 0 0 1 1 1 1 1 1 1 0 0 1 1 0 0 0 1 1 0 0 0 1 1 0 0 0 0 1\n",
      " 1 0 0 0 1 0 0 0 1 1 1 0 0 1 1 0 0 1 0 0 1 0 0 1 1 0 1 0 1 1 0 0 1 0 0 0 1\n",
      " 0 0 0 1]\n"
     ]
    }
   ],
   "source": [
    "#1. 모듈 및 함수 불러오기\n",
    "from sklearn.neighbors import KNeighborsClassifier\n",
    "\n",
    "#2. 모형 생성\n",
    "model= KNeighborsClassifier(n_neighbors=7, metric='euclidean')\n",
    "\n",
    "#3. 모형 학습 및 예측\n",
    "model.fit(X_train, Y_train) \n",
    "Y_pred = model.predict(X_test) \n",
    "\n",
    "print('평가용 데이터 세트에 대한 예측 값:\\n', Y_pred)\n"
   ]
  },
  {
   "cell_type": "markdown",
   "metadata": {},
   "source": [
    "- 모형 평가"
   ]
  },
  {
   "cell_type": "code",
   "execution_count": 3,
   "metadata": {},
   "outputs": [
    {
     "name": "stdout",
     "output_type": "stream",
     "text": [
      "학습용 데이터 세트 정확도: 0.849\n",
      "평가용 데이터 세트 정확도: 0.753\n"
     ]
    }
   ],
   "source": [
    "print('학습용 데이터 세트 정확도: {:.3f}'.format(model.score(X_train, Y_train)))\n",
    "print('평가용 데이터 세트 정확도: {:.3f}'.format(model.score(X_test, Y_test)))"
   ]
  },
  {
   "cell_type": "code",
   "execution_count": 4,
   "metadata": {},
   "outputs": [
    {
     "name": "stdout",
     "output_type": "stream",
     "text": [
      "              precision    recall  f1-score   support\n",
      "\n",
      "           0       0.91      0.73      0.81       219\n",
      "           1       0.53      0.81      0.64        81\n",
      "\n",
      "    accuracy                           0.75       300\n",
      "   macro avg       0.72      0.77      0.73       300\n",
      "weighted avg       0.81      0.75      0.77       300\n",
      "\n"
     ]
    }
   ],
   "source": [
    "#1. 모듈 및 함수 불러오기\n",
    "from sklearn.metrics import classification_report\n",
    "\n",
    "#2. 정밀도, 재현율, F1 스코어 평가\n",
    "print(classification_report(Y_test, Y_pred))"
   ]
  },
  {
   "cell_type": "markdown",
   "metadata": {},
   "source": [
    "### (2) 수치 예측 실습"
   ]
  },
  {
   "cell_type": "markdown",
   "metadata": {},
   "source": [
    "- 변수 지정 및 전처리"
   ]
  },
  {
   "cell_type": "code",
   "execution_count": 5,
   "metadata": {},
   "outputs": [],
   "source": [
    "#1. 모듈 및 함수 불러오기\n",
    "import numpy as np\n",
    "\n",
    "#2. 변수 지정 및 종속변수 로그 변환\n",
    "X = df[df.이탈여부==0][['총매출액', '1회 평균매출액', '총 할인 금액', '구매카테고리수', 'Frequency']]\n",
    "Y =np.log1p(df[df.이탈여부==0]['평균 구매주기'])\n",
    "\n",
    "#3. 데이터 분할(학습용/평가용 데이터 세트)\n",
    "X_train, X_test, Y_train, Y_test = train_test_split(X, Y, test_size=0.3, random_state=0)\n",
    "\n",
    "#4. 표준화\n",
    "scaler = StandardScaler().fit(X_train)\n",
    "X_test = scaler.transform(X_test)\n",
    "X_train = scaler.transform(X_train)"
   ]
  },
  {
   "cell_type": "markdown",
   "metadata": {},
   "source": [
    "- 모형 학습 및 예측"
   ]
  },
  {
   "cell_type": "code",
   "execution_count": 6,
   "metadata": {},
   "outputs": [
    {
     "name": "stdout",
     "output_type": "stream",
     "text": [
      "평가용 데이터 세트에 대한 예측값\n",
      " [5.34717143 5.38708243 5.52304376 6.0318755  4.76818504 5.34608139\n",
      " 4.67046114 3.31576348 5.06297391 5.46145837 5.54168431 3.97073032\n",
      " 4.47711497 5.34332192 6.01209494 5.01648967 5.19457146 5.6723539\n",
      " 5.11807642 5.33000444 5.61617141 4.55477082 5.92718907 5.08661969\n",
      " 4.7222249  5.39431823 5.46145837 4.13475272 4.31834868 5.31152424\n",
      " 5.45809584 5.83092588 5.00853266 5.55964654 5.38142736 5.02000598\n",
      " 5.15197673 5.49188917 5.16578072 6.33201815 5.33496517 4.41114555\n",
      " 4.74620605 4.59240314 4.53102866 5.46485119 4.50609478 5.36443026\n",
      " 5.14143481 5.45809584 5.08569272 5.55134422 3.56248567 4.58572333\n",
      " 5.10205043 5.5323207  5.25343958 5.87950994 5.06213385 5.13703175\n",
      " 5.46297207 4.91128427 4.59078379 5.63374381 4.62345007 5.08334026\n",
      " 5.13926445 4.66892204 6.15321556 3.83091885 5.60857658 5.11807642\n",
      " 5.17354576 5.00613421 4.13504136 5.89528373 5.83477469 5.6019415\n",
      " 4.62001851 5.36443026 4.94546855 4.62972634 5.04345397 4.51349639\n",
      " 5.51457156 5.27452383 5.06062262 5.4596653  4.46373463 5.39638578\n",
      " 5.14428378 5.65977156 5.03057808 5.50412525 5.03379471 6.26260255\n",
      " 4.81690158 4.42350468 5.56146756 4.33951417 4.59493445 5.0020951\n",
      " 5.5125659  5.09068321 5.3485412  5.7653272  5.34634896 5.06282533\n",
      " 5.06447698 4.63167925 5.09178336 5.08569272 5.49544897 5.80765196\n",
      " 5.11393512 4.56396818 5.07708187 5.54553408 4.80732398 5.08191243\n",
      " 5.4838041  5.35947122 5.183814   4.62944924 5.42501254 5.36443026\n",
      " 4.76463168 4.6446887  5.37852029 5.21192923 3.73906701 5.16769679\n",
      " 5.2919572  5.44060332 4.77233613 5.50327817 3.99178547 5.36443026\n",
      " 5.29001616 5.185708   5.84133507 5.32378796 4.55192632 5.03901126\n",
      " 4.59974203 5.43587056 5.12261893 5.36782135 4.08531771 5.07667381\n",
      " 4.68673768 4.98595946 5.27513848 5.52810819 6.21077375 4.76672369\n",
      " 3.615881   5.67806749 5.62370419 4.83083688 5.38729601 5.44175309\n",
      " 6.16437946 4.48792284 4.72654469 5.38816124 5.36680324 4.71014053\n",
      " 5.68907184 4.42878148 3.83091885 5.15770976 4.80943896 5.59536073\n",
      " 4.17741029 5.5803937  6.32790108 4.61666091 5.54937067 4.2836478\n",
      " 6.10393938 6.42711315 5.24702289 6.04879419 5.57682634 4.94900464\n",
      " 5.57788293 5.50904087 4.46727972 5.67747362 5.4711747  5.44581201\n",
      " 6.36563382 3.76409032 5.20208994 5.11807642 5.36443026 4.21875281\n",
      " 5.87011849 4.27032266 6.27936894 3.9160232  5.38475868 5.08008817\n",
      " 5.1508524  4.90949422 4.90554264 5.83835587 5.30365812 5.02978688]\n"
     ]
    }
   ],
   "source": [
    "#1. 모듈 및 함수 불러오기\n",
    "from sklearn.neighbors import KNeighborsRegressor\n",
    "\n",
    "#2. 모형 생성\n",
    "model= KNeighborsRegressor(n_neighbors=5, p=2)\n",
    "\n",
    "#3. 모형 학습 및 예측\n",
    "model.fit(X_train, Y_train) \n",
    "Y_pred = model.predict(X_test) \n",
    "\n",
    "print('평가용 데이터 세트에 대한 예측값\\n', Y_pred)"
   ]
  },
  {
   "cell_type": "markdown",
   "metadata": {},
   "source": [
    "- 모형 평가"
   ]
  },
  {
   "cell_type": "code",
   "execution_count": 7,
   "metadata": {},
   "outputs": [
    {
     "name": "stdout",
     "output_type": "stream",
     "text": [
      "학습용 데이터 세트 결정계수: 0.806\n",
      "평가용 데이터 세트 결정계수: 0.709\n"
     ]
    }
   ],
   "source": [
    "print('학습용 데이터 세트 결정계수: {:.3f}'.format(model.score(X_train, Y_train)))\n",
    "print('평가용 데이터 세트 결정계수: {:.3f}'.format(model.score(X_test, Y_test)))\n"
   ]
  },
  {
   "cell_type": "code",
   "execution_count": 8,
   "metadata": {},
   "outputs": [
    {
     "name": "stdout",
     "output_type": "stream",
     "text": [
      "RMSE:0.395\n"
     ]
    }
   ],
   "source": [
    "#1. 모듈 및 함수 불러오기\n",
    "from sklearn.metrics import mean_squared_error\n",
    "from math import sqrt\n",
    "\n",
    "#2. RMSE 계산\n",
    "rmse= sqrt(mean_squared_error(Y_test, Y_pred))\n",
    "\n",
    "print('RMSE:{:.3f}'.format(rmse))"
   ]
  }
 ],
 "metadata": {
  "kernelspec": {
   "display_name": "Python 3",
   "language": "python",
   "name": "python3"
  },
  "language_info": {
   "codemirror_mode": {
    "name": "ipython",
    "version": 3
   },
   "file_extension": ".py",
   "mimetype": "text/x-python",
   "name": "python",
   "nbconvert_exporter": "python",
   "pygments_lexer": "ipython3",
   "version": "3.7.4"
  }
 },
 "nbformat": 4,
 "nbformat_minor": 2
}
