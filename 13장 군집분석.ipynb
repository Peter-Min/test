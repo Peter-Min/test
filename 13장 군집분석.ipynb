{
 "cells": [
  {
   "cell_type": "markdown",
   "metadata": {},
   "source": [
    "## 13장 군집분석"
   ]
  },
  {
   "cell_type": "markdown",
   "metadata": {},
   "source": [
    "### (1) 계층적 군집분석 실습"
   ]
  },
  {
   "cell_type": "markdown",
   "metadata": {},
   "source": [
    "- 변수 지정 및 전처리"
   ]
  },
  {
   "cell_type": "code",
   "execution_count": 1,
   "metadata": {},
   "outputs": [
    {
     "data": {
      "text/plain": [
       "<Figure size 2000x500 with 5 Axes>"
      ]
     },
     "metadata": {},
     "output_type": "display_data"
    }
   ],
   "source": [
    "#1. 모듈 및 함수 불러오기 \n",
    "import pandas as pd\n",
    "import matplotlib.pyplot as plt\n",
    "import seaborn as sns    \n",
    "\n",
    "#2. 변수 지정\n",
    "df = pd.read_csv('Ashopping.csv', encoding ='cp949')                     \n",
    "X=df[['1회 평균매출액', '평균 구매주기', '구매카테고리수', '총매출액', '방문빈도']]\n",
    "\n",
    "#3. 한글 폰트 설정\n",
    "from matplotlib import font_manager, rc\n",
    "font_name = font_manager.FontProperties(fname=\"c:/Windows/Fonts/malgun.ttf\").get_name()\n",
    "rc('font', family=font_name)\n",
    "\n",
    "#4. 5개의 서브 플롯 생성\n",
    "fig, axs = plt.subplots(1,5, figsize = (20,5))\n",
    "\n",
    "#5. 상자 그림 생성\n",
    "sns.boxplot(X['1회 평균매출액'], ax = axs[0])\n",
    "sns.boxplot(X['평균 구매주기'], ax = axs[1])\n",
    "sns.boxplot(X['구매카테고리수'], ax = axs[2])\n",
    "sns.boxplot(X['총매출액'], ax = axs[3])\n",
    "sns.boxplot(X['방문빈도'], ax = axs[4])\n",
    "plt.show()\n"
   ]
  },
  {
   "cell_type": "code",
   "execution_count": 2,
   "metadata": {},
   "outputs": [
    {
     "name": "stderr",
     "output_type": "stream",
     "text": [
      "C:\\Users\\user\\Anaconda3\\lib\\site-packages\\pandas\\core\\frame.py:4102: SettingWithCopyWarning: \n",
      "A value is trying to be set on a copy of a slice from a DataFrame\n",
      "\n",
      "See the caveats in the documentation: http://pandas.pydata.org/pandas-docs/stable/user_guide/indexing.html#returning-a-view-versus-a-copy\n",
      "  errors=errors,\n"
     ]
    },
    {
     "data": {
      "text/plain": [
       "(774, 5)"
      ]
     },
     "execution_count": 2,
     "metadata": {},
     "output_type": "execute_result"
    }
   ],
   "source": [
    "#1. 모듈 및 함수 불러오기\n",
    "from sklearn.preprocessing import StandardScaler\n",
    "\n",
    "#2. 변수 리스트 생성\n",
    "list=['1회 평균매출액', '평균 구매주기', '구매카테고리수', '총매출액', '방문빈도']\n",
    "\n",
    "#3. IQR 범위 산정\n",
    "for a in list :\n",
    "    Q1 = X[a].quantile(0.25)\n",
    "    Q3 = X[a].quantile(0.75)\n",
    "    IQR = Q3 - Q1\n",
    "\n",
    "    #4. 이상치 제거\n",
    "    outlier_index = X[(X[a] < Q1 - 1.5*IQR) | (X[a] > Q3 + 1.5*IQR)].index\n",
    "    X.drop(outlier_index, inplace=True)\n",
    "\n",
    "#5. 표준화 \n",
    "scaler = StandardScaler()\n",
    "scaler.fit(X)\n",
    "X_stand = scaler.transform(X)\n",
    "\n",
    "#6. 결과 출력\n",
    "X_stand.shape"
   ]
  },
  {
   "cell_type": "markdown",
   "metadata": {},
   "source": [
    "- 계층적 군집분석 수행"
   ]
  },
  {
   "cell_type": "code",
   "execution_count": 3,
   "metadata": {},
   "outputs": [
    {
     "name": "stdout",
     "output_type": "stream",
     "text": [
      "[0 0 1 1 1 0 0 1 1 0 1 0 1 1 1 1 1 0 0 0 1 0 1 1 1 1 1 1 1 1 0 0 0 1 0 0 1\n",
      " 1 1 0 1 1 1 0 1 0 1 1 1 0 0 1 0 1 0 1 1 0 1 0 0 1 1 0 1 1 1 0 1 0 1 1 1 1\n",
      " 1 1 1 0 1 0 0 1 0 0 1 1 0 1 0 1 1 1 1 1 0 0 0 1 1 1 1 1 0 1 1 1 1 1 0 1 1\n",
      " 0 1 1 0 1 0 1 0 0 1 0 1 1 0 1 1 1 1 1 0 1 1 0 1 1 1 0 1 1 1 0 1 1 1 1 1 1\n",
      " 1 1 1 0 1 1 0 1 0 0 1 1 0 1 0 0 1 1 0 0 1 0 1 1 0 0 1 1 0 1 1 0 1 0 0 1 0\n",
      " 1 1 1 1 1 1 0 0 0 1 1 1 1 1 1 1 0 0 1 1 1 1 0 1 1 0 0 0 1 0 0 0 1 0 1 0 1\n",
      " 0 1 0 0 0 1 1 0 0 1 1 0 0 0 1 1 0 0 1 1 0 1 0 0 0 0 0 1 0 1 1 1 1 1 1 1 0\n",
      " 0 1 1 1 0 1 0 1 0 0 1 1 0 1 1 0 0 0 0 0 0 1 1 0 0 1 0 0 0 1 1 1 0 1 1 0 1\n",
      " 1 0 1 1 1 0 0 1 0 0 0 1 1 0 1 0 1 1 0 0 0 1 1 1 1 0 1 0 0 0 1 0 1 0 0 1 1\n",
      " 0 1 1 1 0 1 0 1 1 0 0 1 1 1 1 0 1 1 1 0 0 1 0 0 1 0 1 0 0 0 0 1 0 1 1 1 0\n",
      " 0 1 0 0 0 1 0 0 1 1 0 0 0 0 1 1 0 1 1 0 1 1 1 1 0 1 0 1 1 1 0 1 0 1 1 1 1\n",
      " 1 0 0 0 0 1 0 0 1 0 1 0 1 0 0 0 1 0 0 0 1 0 0 1 0 0 0 1 0 0 1 1 0 0 1 0 1\n",
      " 1 0 1 1 0 1 0 0 1 1 0 1 1 0 1 0 1 1 1 1 1 1 1 1 1 1 1 0 0 0 0 0 1 1 1 0 1\n",
      " 1 1 1 1 1 0 1 0 0 1 1 0 1 0 1 0 1 0 1 1 1 0 0 0 1 1 1 0 0 1 1 0 1 1 0 1 0\n",
      " 1 0 0 1 0 0 1 1 1 0 1 1 0 0 1 0 0 0 0 1 0 0 0 0 0 0 0 1 1 0 0 0 1 0 0 0 1\n",
      " 1 0 1 0 0 0 0 0 1 1 0 0 1 0 1 0 1 1 0 0 1 0 0 1 1 0 1 1 1 1 1 0 0 1 0 0 1\n",
      " 1 0 0 1 1 1 0 0 1 1 1 0 1 1 0 0 1 1 1 0 0 1 1 1 0 0 0 1 0 1 1 1 1 0 1 0 0\n",
      " 1 1 0 0 1 1 1 1 1 0 1 0 1 0 1 0 0 1 1 1 0 1 0 0 1 1 0 0 0 0 1 1 1 1 0 1 1\n",
      " 0 0 0 1 1 0 1 1 0 0 1 1 0 1 0 0 1 1 1 1 1 0 0 0 1 1 0 0 1 1 1 1 1 1 1 1 0\n",
      " 0 0 1 0 1 0 0 0 0 0 1 0 0 1 1 1 0 1 0 0 0 1 1 0 0 1 0 1 1 0 0 1 0 0 0 0 0\n",
      " 1 1 1 0 1 1 1 1 0 1 1 0 1 1 1 1 0 0 0 0 1 0 0 1 0 0 0 1 0 1 1 1 0 0]\n"
     ]
    }
   ],
   "source": [
    "#1. 모듈 및 함수 불러오기\n",
    "from sklearn.cluster import AgglomerativeClustering\n",
    "\n",
    "#2. 군집분석 모형 생성\n",
    "agg = AgglomerativeClustering(linkage= 'ward')\n",
    "\n",
    "#3. 군집분석 수행\n",
    "Y_agg=agg.fit_predict(X_stand)\n",
    "print(Y_agg)"
   ]
  },
  {
   "cell_type": "markdown",
   "metadata": {},
   "source": [
    "- 군집 품질 평가"
   ]
  },
  {
   "cell_type": "code",
   "execution_count": 4,
   "metadata": {},
   "outputs": [
    {
     "name": "stdout",
     "output_type": "stream",
     "text": [
      "실루엣 계수: 0.285\n",
      "CH 점수: 354.472\n"
     ]
    }
   ],
   "source": [
    "#1. 모듈 및 함수 불러오기\n",
    "from sklearn.metrics import silhouette_score, calinski_harabasz_score\n",
    "\n",
    "#2. 실루엣 계수 및 CH 점수 출력\n",
    "S_score = silhouette_score(X_stand, Y_agg)\n",
    "C_score = calinski_harabasz_score(X_stand, Y_agg)\n",
    "\n",
    "print(\"실루엣 계수: {:.3f}\".format(S_score))\n",
    "print(\"CH 점수: {:.3f}\".format(C_score))"
   ]
  },
  {
   "cell_type": "markdown",
   "metadata": {},
   "source": [
    "- 덴드로그램 생성"
   ]
  },
  {
   "cell_type": "code",
   "execution_count": 5,
   "metadata": {},
   "outputs": [
    {
     "data": {
      "image/png": "[encoded data removed]",
      "text/plain": [
       "<Figure size 720x720 with 1 Axes>"
      ]
     },
     "metadata": {
      "needs_background": "light"
     },
     "output_type": "display_data"
    }
   ],
   "source": [
    "#1. 모듈 및 함수 불러오기\n",
    "from scipy.cluster.hierarchy import linkage\n",
    "from scipy.cluster.hierarchy import dendrogram\n",
    "\n",
    "#2. 군집분석 수행\n",
    "h_cluster= linkage(X_stand, method = 'ward')\n",
    "\n",
    "#3. 덴드로그램 출력\n",
    "plt.figure(figsize=(10, 10))\n",
    "plt.title('Dendrogram')\n",
    "plt.xlabel('index')\n",
    "plt.ylabel('distance')\n",
    "dendrogram(h_cluster)\n",
    "plt.show()"
   ]
  },
  {
   "cell_type": "markdown",
   "metadata": {},
   "source": [
    "### (2) K-평균 군집분석"
   ]
  },
  {
   "cell_type": "markdown",
   "metadata": {},
   "source": [
    "- 최적 군집 수 판단 (Elbow Method 수행)"
   ]
  },
  {
   "cell_type": "code",
   "execution_count": 6,
   "metadata": {},
   "outputs": [
    {
     "data": {
      "image/png": "[encoded data removed]",
      "text/plain": [
       "<Figure size 432x288 with 1 Axes>"
      ]
     },
     "metadata": {
      "needs_background": "light"
     },
     "output_type": "display_data"
    }
   ],
   "source": [
    "#1. 모듈 및 함수 불러오기\n",
    "from sklearn.cluster import KMeans\n",
    "\n",
    "#2. Inertia 값을 담을 빈 리스트 생성\n",
    "inertia =[ ]\n",
    "\n",
    "#3. K에 따른 inertia 값 계산 \n",
    "for k in range(1,11):\n",
    "    kmeans = KMeans(n_clusters= k, random_state=0)\n",
    "    kmeans.fit_predict(X_stand)\n",
    "    inertia.append(kmeans.inertia_)\n",
    "\n",
    "#4. Elbow Method 그래프 출력\n",
    "plt.plot(range(1,11), inertia)\n",
    "plt.title('The Elbow Method', fontsize=15)\n",
    "plt.xlabel('K', fontsize=13)\n",
    "plt.ylabel('inertia', fontsize=13) \n",
    "plt.show()\n"
   ]
  },
  {
   "cell_type": "markdown",
   "metadata": {},
   "source": [
    "- K-평균 군집분석 수행"
   ]
  },
  {
   "cell_type": "code",
   "execution_count": 7,
   "metadata": {},
   "outputs": [
    {
     "name": "stdout",
     "output_type": "stream",
     "text": [
      "[1 1 0 0 0 1 1 0 0 1 0 1 0 0 0 0 0 1 1 1 0 1 0 0 0 0 0 1 0 1 1 1 1 0 1 1 0\n",
      " 0 1 1 0 0 0 1 0 1 0 0 0 1 1 0 1 0 1 0 0 1 0 1 1 0 0 1 0 0 0 1 0 1 0 0 1 0\n",
      " 0 0 0 1 0 1 1 0 1 1 0 0 1 0 1 0 0 0 0 0 1 1 1 0 0 0 0 0 1 0 0 0 0 0 1 1 0\n",
      " 1 0 0 1 0 1 0 1 1 0 1 0 0 1 1 0 0 0 0 1 0 1 1 0 1 0 1 0 1 0 1 0 0 1 0 0 1\n",
      " 0 0 0 1 1 1 1 0 1 1 0 0 1 0 1 1 0 0 1 1 0 1 0 0 1 1 0 0 1 0 1 1 0 1 1 0 1\n",
      " 0 0 0 0 0 0 1 1 1 0 0 0 0 1 0 0 1 1 0 0 0 0 1 0 0 1 1 1 0 1 1 1 0 1 0 1 0\n",
      " 1 0 1 1 1 0 0 1 1 0 0 1 1 1 0 0 1 1 0 0 1 0 1 1 1 1 1 0 1 0 0 1 1 0 0 0 1\n",
      " 1 0 0 0 1 0 1 0 1 1 0 0 1 0 0 1 1 1 1 1 1 0 0 1 1 0 1 1 1 0 0 0 1 0 0 1 1\n",
      " 0 1 0 0 0 1 1 0 1 1 1 0 0 1 0 1 0 0 1 1 1 0 0 0 0 1 0 1 1 1 0 1 0 1 1 1 1\n",
      " 1 0 0 0 1 0 1 0 0 1 1 0 0 0 0 1 0 0 1 1 1 0 1 1 0 1 0 1 1 1 1 0 1 0 0 0 1\n",
      " 1 0 1 1 1 0 1 1 0 0 1 1 1 1 0 0 1 0 0 1 0 1 0 1 1 0 1 0 0 0 1 0 1 0 1 0 0\n",
      " 0 1 1 1 1 0 1 1 0 1 0 1 1 1 1 1 0 1 1 1 0 1 1 0 1 1 1 0 1 1 0 0 1 1 0 1 1\n",
      " 0 1 0 1 1 0 1 1 1 0 1 0 0 1 0 1 0 0 0 0 0 0 0 0 0 0 0 1 1 1 1 1 0 0 0 1 0\n",
      " 0 0 0 0 0 1 1 1 1 0 1 1 0 1 0 1 0 1 0 0 0 1 1 1 0 1 0 1 1 1 0 1 0 0 1 0 1\n",
      " 0 1 1 1 1 1 0 0 0 1 0 0 1 1 0 1 1 1 1 0 1 1 1 1 1 1 1 0 0 1 1 1 0 1 0 1 0\n",
      " 0 1 0 1 1 1 1 1 0 0 1 1 1 1 0 1 0 0 1 1 0 1 1 0 0 1 0 0 0 0 0 1 1 0 1 1 0\n",
      " 0 1 1 0 0 0 1 1 0 0 0 1 0 1 1 1 0 0 0 1 1 0 0 0 1 1 1 1 1 0 1 0 0 1 0 1 1\n",
      " 0 0 1 1 0 0 1 1 0 1 1 1 0 1 0 1 1 0 0 0 1 0 1 1 0 0 1 1 1 1 0 0 0 0 1 0 0\n",
      " 1 1 1 1 1 1 0 0 1 1 0 0 1 1 1 1 0 0 0 0 1 1 1 1 0 0 1 1 0 0 0 0 1 0 0 0 1\n",
      " 1 1 0 1 0 1 1 1 1 1 0 1 1 0 0 0 1 0 1 1 1 0 0 1 1 0 1 0 0 1 1 1 1 1 1 1 1\n",
      " 0 0 0 1 0 0 0 0 1 0 0 1 0 1 0 0 1 1 1 1 0 1 1 0 1 1 1 0 1 0 0 0 1 1]\n"
     ]
    }
   ],
   "source": [
    "#1. 모형 생성\n",
    "kmeans = KMeans(n_clusters= 2, random_state=0)\n",
    "\n",
    "#2. 군집분석 수행\n",
    "Y_kmeans= kmeans.fit_predict(X_stand)\n",
    "print(Y_kmeans)"
   ]
  },
  {
   "cell_type": "markdown",
   "metadata": {},
   "source": [
    "- 군집 품질 평가"
   ]
  },
  {
   "cell_type": "code",
   "execution_count": 8,
   "metadata": {},
   "outputs": [
    {
     "name": "stdout",
     "output_type": "stream",
     "text": [
      "실루엣 계수: 0.312\n",
      "CH 점수: 396.618\n"
     ]
    }
   ],
   "source": [
    "S_score = silhouette_score(X_stand, Y_kmeans)\n",
    "C_score = calinski_harabasz_score(X_stand, Y_kmeans)\n",
    "\n",
    "print(\"실루엣 계수: {:.3f}\".format(S_score))\n",
    "print(\"CH 점수: {:.3f}\".format(C_score))"
   ]
  },
  {
   "cell_type": "markdown",
   "metadata": {},
   "source": [
    "### (3) DBSCAN 실습"
   ]
  },
  {
   "cell_type": "markdown",
   "metadata": {},
   "source": [
    "- DBSCAN 군집분석 수행"
   ]
  },
  {
   "cell_type": "code",
   "execution_count": 9,
   "metadata": {},
   "outputs": [
    {
     "name": "stdout",
     "output_type": "stream",
     "text": [
      "[ 0  0  0 -1 -1 -1  0  0  0  0  0 -1  0  0 -1 -1  0  0  0  0  0  0  0  0\n",
      "  0 -1 -1  0  0  0 -1  0  0  0  0  0  0 -1 -1  2 -1  0  0  0  0  0 -1 -1\n",
      " -1  0  0  0  0  0  0  0 -1  0 -1  0  0 -1  0  0  0 -1  0  0  0  0  0 -1\n",
      " -1 -1  0  0 -1  0  0  1 -1  0  0  1  0  0  0 -1  0 -1 -1  0 -1 -1  0  0\n",
      "  0  0 -1  0 -1  0 -1  0 -1  0 -1 -1  0  0 -1  0  0 -1  0 -1  0 -1  0 -1\n",
      "  0  0 -1 -1  0 -1 -1 -1 -1 -1  0 -1 -1  0  0 -1  0  0 -1  0  0  0  0  0\n",
      "  0 -1  0  0  0 -1  0  0  0  0  0 -1  2  0  0 -1  0  0  0  0 -1  0  0  0\n",
      " -1  0  0 -1  0  0  3 -1  0 -1 -1  0 -1  0  0 -1  0  0  0  0  0  0  0  0\n",
      "  0  0  0 -1  0  0 -1  0 -1  0 -1  0  0  0  0  0 -1  0  0  0  0  0  0  0\n",
      "  0  0  0  0  1 -1  0 -1  0  0  0  0  0 -1  0  0  0  0  2  0  0  0  0  1\n",
      "  0  0  0  0 -1  0  0  0  0  0  0  0  0  0  0 -1  0  0  1  0  0  0  0  0\n",
      " -1  0  0  0  0 -1  0  0 -1  0  0  0  2  0 -1  0 -1  0  0  0  0  0  0  0\n",
      " -1  0  0  0  0 -1  0  0  0  0  0  0  0  0  0 -1  0  0  0  0  0  0  0  0\n",
      " -1 -1  0 -1  0  0  0  0  0 -1 -1  0  0  0 -1  2  0  0  0 -1 -1  0  0  0\n",
      "  0  0  0  0  0  0  0 -1  0  0  3  3  0 -1  0 -1  0  0  0  0  0  0 -1 -1\n",
      "  0 -1 -1  0  0  0  0  0 -1  0  0  0  0  0  0  0  0  0  0  0  0 -1 -1 -1\n",
      "  0  0  2  0  0  0 -1  0  0 -1 -1  0  0  0  0  0  0  0  0  0 -1  0  0  0\n",
      "  1  0  0 -1  0  0  0 -1  0 -1  0 -1  0  1  0  0 -1  0  0  0  0  0  0 -1\n",
      "  0 -1 -1  0  0  0  0  2 -1  0  0 -1  0  0  0  0 -1 -1  0  0  0  0  2  0\n",
      "  3  0  0  0  0  0  0  0 -1  0  0  0 -1  0  0  0  0  0  0  0  0  0  0  0\n",
      "  0 -1  0  0  0  0  0  0  0  0  0 -1  0 -1  0  0  0  0  0  0  0  0  0  0\n",
      " -1 -1  0  0  0  0  0 -1  0  0  0 -1 -1  0 -1  0  0 -1  1  0  0 -1  0  0\n",
      " -1 -1  0  0 -1  0  0  0  0  0  0  0  0 -1  0  0  0 -1  0  0  0  0  0  0\n",
      " -1  0  0 -1  0  0  0  0  0  0  0 -1  0  0  0  0  0  0  0  0 -1 -1 -1  0\n",
      "  0 -1  0  0  0  0  0  0  0 -1  0  0  0  0  0  0  0  0 -1  0 -1 -1  0  0\n",
      "  0  0 -1 -1 -1 -1  0  0  0  0 -1  0  0  0  0  0  0  0  0  0  0  0  0 -1\n",
      " -1  0  0 -1  0 -1  0  0  1  0  0  0  0 -1  0  0  2 -1  0  0  2  0  0  0\n",
      "  0  0 -1  1  0  0  0  0  0 -1  0 -1  0  0  0  1  0 -1  0  0  0 -1 -1  0\n",
      "  0  0 -1  0  0  0 -1  0 -1  0  0  0  0  0 -1  0  0  0  0 -1  0  2  0  0\n",
      "  0 -1  0 -1  3  0 -1 -1  0  3  0  0  0  0  0  0  0 -1  0  0  0  0 -1 -1\n",
      "  3  0  0  0  0 -1  0  0  0  0  0  0  2  0  0  0  0  0  0  0 -1  0  0  0\n",
      " -1  0  0  0  0  0  0  2  0  0  0 -1  0  0  0  0 -1  0  0  0  0  0  0 -1\n",
      " -1  0 -1  0  0  0]\n"
     ]
    }
   ],
   "source": [
    "#1. 모듈 및 함수 불러오기\n",
    "from sklearn.cluster import DBSCAN\n",
    "\n",
    "#2. 모형 생성\n",
    "dbscan = DBSCAN(eps= 0.7, min_samples= 10)\n",
    "\n",
    "#3. 모형 학습 및 예측\n",
    "Y_dbscan = dbscan.fit_predict(X_stand)\n",
    "print(Y_dbscan)"
   ]
  },
  {
   "cell_type": "markdown",
   "metadata": {},
   "source": [
    "- 군집 품질 평가"
   ]
  },
  {
   "cell_type": "code",
   "execution_count": 10,
   "metadata": {},
   "outputs": [
    {
     "name": "stdout",
     "output_type": "stream",
     "text": [
      "실루엣 계수: 0.025\n",
      "calinski_harabasz 점수: 39.961\n"
     ]
    }
   ],
   "source": [
    "S_score = silhouette_score(X_stand, Y_dbscan)\n",
    "C_score = calinski_harabasz_score(X_stand, Y_dbscan)\n",
    "\n",
    "print(\"실루엣 계수: {:.3f}\".format(S_score))\n",
    "print(\"calinski_harabasz 점수: {:.3f}\".format(C_score))"
   ]
  },
  {
   "cell_type": "markdown",
   "metadata": {},
   "source": [
    "### (4) 군집 프로파일링"
   ]
  },
  {
   "cell_type": "code",
   "execution_count": 12,
   "metadata": {},
   "outputs": [
    {
     "name": "stderr",
     "output_type": "stream",
     "text": [
      "C:\\Users\\user\\Anaconda3\\lib\\site-packages\\ipykernel_launcher.py:2: SettingWithCopyWarning: \n",
      "A value is trying to be set on a copy of a slice from a DataFrame.\n",
      "Try using .loc[row_indexer,col_indexer] = value instead\n",
      "\n",
      "See the caveats in the documentation: http://pandas.pydata.org/pandas-docs/stable/user_guide/indexing.html#returning-a-view-versus-a-copy\n",
      "  \n"
     ]
    },
    {
     "data": {
      "text/html": [
       "<div>\n",
       "<style scoped>\n",
       "    .dataframe tbody tr th:only-of-type {\n",
       "        vertical-align: middle;\n",
       "    }\n",
       "\n",
       "    .dataframe tbody tr th {\n",
       "        vertical-align: top;\n",
       "    }\n",
       "\n",
       "    .dataframe thead th {\n",
       "        text-align: right;\n",
       "    }\n",
       "</style>\n",
       "<table border=\"1\" class=\"dataframe\">\n",
       "  <thead>\n",
       "    <tr style=\"text-align: right;\">\n",
       "      <th></th>\n",
       "      <th>ClusterID</th>\n",
       "      <th>1회 평균매출액</th>\n",
       "      <th>평균 구매주기</th>\n",
       "      <th>구매카테고리수</th>\n",
       "      <th>총매출액</th>\n",
       "      <th>방문빈도</th>\n",
       "    </tr>\n",
       "  </thead>\n",
       "  <tbody>\n",
       "    <tr>\n",
       "      <td>0</td>\n",
       "      <td>0</td>\n",
       "      <td>343889.371353</td>\n",
       "      <td>317.440339</td>\n",
       "      <td>3.928382</td>\n",
       "      <td>3.828847e+06</td>\n",
       "      <td>11.933687</td>\n",
       "    </tr>\n",
       "    <tr>\n",
       "      <td>1</td>\n",
       "      <td>1</td>\n",
       "      <td>195844.604534</td>\n",
       "      <td>136.331861</td>\n",
       "      <td>6.375315</td>\n",
       "      <td>5.032220e+06</td>\n",
       "      <td>27.198992</td>\n",
       "    </tr>\n",
       "  </tbody>\n",
       "</table>\n",
       "</div>"
      ],
      "text/plain": [
       "   ClusterID       1회 평균매출액     평균 구매주기   구매카테고리수          총매출액       방문빈도\n",
       "0          0  343889.371353  317.440339  3.928382  3.828847e+06  11.933687\n",
       "1          1  195844.604534  136.331861  6.375315  5.032220e+06  27.198992"
      ]
     },
     "execution_count": 12,
     "metadata": {},
     "output_type": "execute_result"
    }
   ],
   "source": [
    "#1. 군집별로 각 칼럼의 평균값을 시리즈(Series) 형태로 저장\n",
    "X['cluster']=Y_kmeans\n",
    "a = pd.Series(X.groupby('cluster')['1회 평균매출액'].mean())\n",
    "b = pd.Series(X.groupby('cluster')['평균 구매주기'].mean())\n",
    "c = pd.Series(X.groupby('cluster')['구매카테고리수'].mean())\n",
    "d = pd.Series(X.groupby('cluster')['총매출액'].mean())\n",
    "e = pd.Series(X.groupby('cluster')['방문빈도'].mean())\n",
    "\n",
    "#2. 군집별 요약 정보를 갖는 데이터 프레임 생성\n",
    "df2 = pd.concat([pd.Series([0,1]),a,b,c,d,e,], axis=1)\n",
    "df2.columns = [\"ClusterID\", \"1회 평균매출액\", \"평균 구매주기\", \"구매카테고리수\",'총매출액', '방문빈도']\n",
    "df2.head()"
   ]
  },
  {
   "cell_type": "code",
   "execution_count": 13,
   "metadata": {
    "scrolled": false
   },
   "outputs": [
    {
     "data": {
      "text/plain": [
       "<matplotlib.axes._subplots.AxesSubplot at 0x23c67880108>"
      ]
     },
     "execution_count": 13,
     "metadata": {},
     "output_type": "execute_result"
    },
    {
     "data": {
      "image/png": "[encoded data removed]",
      "text/plain": [
       "<Figure size 3600x1440 with 5 Axes>"
      ]
     },
     "metadata": {
      "needs_background": "light"
     },
     "output_type": "display_data"
    }
   ],
   "source": [
    "fig, axs = plt.subplots(1,5, figsize = (50,20))\n",
    "sns.barplot(x=df2.ClusterID, y=df2['1회 평균매출액'], ax = axs[0])\n",
    "sns.barplot(x=df2.ClusterID, y=df2['평균 구매주기'], ax = axs[1])\n",
    "sns.barplot(x=df2.ClusterID, y=df2['구매카테고리수'], ax = axs[2])\n",
    "sns.barplot(x=df2.ClusterID, y=df2['총매출액'], ax = axs[3])\n",
    "sns.barplot(x=df2.ClusterID, y=df2['방문빈도'], ax = axs[4])"
   ]
  },
  {
   "cell_type": "code",
   "execution_count": null,
   "metadata": {},
   "outputs": [],
   "source": []
  }
 ],
 "metadata": {
  "kernelspec": {
   "display_name": "Python 3",
   "language": "python",
   "name": "python3"
  },
  "language_info": {
   "codemirror_mode": {
    "name": "ipython",
    "version": 3
   },
   "file_extension": ".py",
   "mimetype": "text/x-python",
   "name": "python",
   "nbconvert_exporter": "python",
   "pygments_lexer": "ipython3",
   "version": "3.7.4"
  }
 },
 "nbformat": 4,
 "nbformat_minor": 2
}
