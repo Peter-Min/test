{
 "cells": [
  {
   "cell_type": "markdown",
   "metadata": {},
   "source": [
    "## 12장 앙상블 모형"
   ]
  },
  {
   "cell_type": "markdown",
   "metadata": {},
   "source": [
    "### (1) 보팅 앙상블 실습"
   ]
  },
  {
   "cell_type": "markdown",
   "metadata": {},
   "source": [
    "#### 1) 분류 예측 실습"
   ]
  },
  {
   "cell_type": "markdown",
   "metadata": {},
   "source": [
    "- 변수 지정 및 전처리"
   ]
  },
  {
   "cell_type": "code",
   "execution_count": 1,
   "metadata": {},
   "outputs": [
    {
     "name": "stderr",
     "output_type": "stream",
     "text": [
      "Using TensorFlow backend.\n"
     ]
    }
   ],
   "source": [
    "#1. 모듈 및 함수 불러오기\n",
    "import pandas as pd\n",
    "from sklearn.model_selection import train_test_split\n",
    "from sklearn.compose import ColumnTransformer\n",
    "from sklearn.preprocessing import StandardScaler\n",
    "from sklearn.preprocessing import OneHotEncoder\n",
    "from imblearn.over_sampling import SMOTE\n",
    "\n",
    "#2. 데이터 불러오기 \n",
    "df = pd.read_csv('Ashopping.csv', encoding = 'cp949')\n",
    "\n",
    "#3. 변수 지정 및 데이터 세트 분할\n",
    "X = df[['방문빈도', '1회 평균매출액', '할인권 사용 횟수', '총 할인 금액', '거래기간', '평균 구매주기', '구매유형']]\n",
    "Y = df['고객등급']\n",
    "X_train, X_test, Y_train, Y_test = train_test_split(X, Y, test_size=0.3, random_state=0)\n",
    "\n",
    "#3. 전처리(표준화, 원핫인코딩)\n",
    "ct = ColumnTransformer([(\"scaling\", StandardScaler(), ['1회 평균매출액', '방문빈도', '총 할인 금액', '할인권 사용 횟수', '거래기간', '평균 구매주기']), (\"onehot\", OneHotEncoder(sparse = False, handle_unknown = 'ignore'), [ '구매유형'])])\n",
    "ct.fit(X_train)\n",
    "X_train=ct.transform(X_train)\n",
    "X_test=ct.transform(X_test)\n",
    "\n",
    "#4. 오버샘플링\n",
    "smote = SMOTE(random_state=0)\n",
    "X_train, Y_train = smote.fit_sample(X_train, Y_train)\n"
   ]
  },
  {
   "cell_type": "markdown",
   "metadata": {},
   "source": [
    "- 모형 학습 및 예측"
   ]
  },
  {
   "cell_type": "code",
   "execution_count": 2,
   "metadata": {},
   "outputs": [
    {
     "name": "stdout",
     "output_type": "stream",
     "text": [
      "평가용 데이터 세트에 대한 예측값\n",
      " [2 2 2 2 2 2 1 2 2 2 1 2 2 2 2 1 2 1 2 2 2 2 1 1 2 1 1 1 2 1 2 1 1 2 2 2 2\n",
      " 1 2 2 1 1 2 2 1 1 2 1 1 2 2 1 1 2 2 1 1 1 2 2 1 2 2 2 2 2 2 2 2 1 2 2 2 1\n",
      " 2 2 2 2 1 1 1 1 1 1 2 1 2 1 2 1 2 2 1 1 1 2 2 2 1 1 1 2 1 2 1 2 1 2 2 2 1\n",
      " 2 2 1 1 1 2 1 1 1 2 2 1 2 2 1 1 1 2 2 2 1 2 2 1 2 1 2 2 1 2 1 1 1 2 2 1 1\n",
      " 2 2 1 1 1 2 1 2 1 2 2 1 1 1 2 2 2 1 2 2 1 2 1 1 2 1 1 1 1 2 2 2 1 1 2 1 2\n",
      " 1 1 2 1 2 1 1 1 2 1 2 2 1 1 2 2 2 1 1 2 2 2 2 1 1 1 1 1 1 1 2 2 2 1 1 2 2\n",
      " 2 1 1 2 1 2 1 2 1 2 1 1 1 2 1 1 1 2 1 1 2 1 2 1 2 2 2 2 1 2 2 1 1 1 2 2 2\n",
      " 1 2 2 2 2 1 1 2 1 2 2 2 2 1 2 1 2 1 2 2 2 1 2 1 2 1 1 2 1 1 1 1 1 2 2 1 1\n",
      " 1 1 2 1]\n"
     ]
    }
   ],
   "source": [
    "#1. 모듈 및 함수 불러오기\n",
    "from sklearn.ensemble import VotingClassifier\n",
    "from sklearn.tree import DecisionTreeClassifier\n",
    "from sklearn.neighbors import KNeighborsClassifier\n",
    "\n",
    "#2. 단일 모형 객체 생성 (의사결정나무 모형, K-NN 모형)\n",
    "dtree = DecisionTreeClassifier(random_state=0) \n",
    "knn = KNeighborsClassifier()\n",
    "\n",
    "#3. 소프트 보팅 기반의 앙상블 모형 생성\n",
    "model = VotingClassifier(estimators=[('K-NN',knn), ('Dtree',dtree)] , voting ='soft' )\n",
    "\n",
    "#4. 모형 학습 및 예측\n",
    "model.fit(X_train, Y_train)\n",
    "Y_pred = model.predict(X_test)\n",
    "print('평가용 데이터 세트에 대한 예측값\\n', Y_pred)\n"
   ]
  },
  {
   "cell_type": "markdown",
   "metadata": {},
   "source": [
    "- 모형 평가"
   ]
  },
  {
   "cell_type": "code",
   "execution_count": 3,
   "metadata": {},
   "outputs": [
    {
     "name": "stdout",
     "output_type": "stream",
     "text": [
      "Voting 분류기 정확도: 0.793\n",
      "DecisionTreeClassifier 정확도: 0.773\n",
      "KNeighborsClassifier 정확도: 0.667\n"
     ]
    }
   ],
   "source": [
    "#1. 보팅 모형의 정확도 \n",
    "print('Voting 분류기 정확도: {0:.3f}'.format(model.score(X_test , Y_test)))\n",
    "\n",
    "#2. 개별 모형의 정확도\n",
    "classifiers = [dtree, knn]\n",
    "for classifier in classifiers:\n",
    "    classifier.fit(X_train , Y_train)\n",
    "    class_name= classifier.__class__.__name__\n",
    "    print('{0} 정확도: {1:.3f}'.format(class_name, classifier.score(X_test , Y_test)))\n"
   ]
  },
  {
   "cell_type": "code",
   "execution_count": 4,
   "metadata": {},
   "outputs": [
    {
     "name": "stdout",
     "output_type": "stream",
     "text": [
      "              precision    recall  f1-score   support\n",
      "\n",
      "           1       0.76      0.80      0.78       138\n",
      "           2       0.82      0.79      0.81       162\n",
      "\n",
      "    accuracy                           0.79       300\n",
      "   macro avg       0.79      0.79      0.79       300\n",
      "weighted avg       0.79      0.79      0.79       300\n",
      "\n"
     ]
    }
   ],
   "source": [
    "from sklearn.metrics import classification_report  \n",
    "print(classification_report(Y_test, Y_pred))\n"
   ]
  },
  {
   "cell_type": "markdown",
   "metadata": {},
   "source": [
    "#### 2) 수치 예측 실습"
   ]
  },
  {
   "cell_type": "markdown",
   "metadata": {},
   "source": [
    "- 변수 지정 및 전처리"
   ]
  },
  {
   "cell_type": "code",
   "execution_count": 5,
   "metadata": {},
   "outputs": [
    {
     "name": "stdout",
     "output_type": "stream",
     "text": [
      "[[ 1.20405628 -0.20091988  0.57229336  0.69336175  0.03475125]\n",
      " [ 1.20405628 -0.20091988  1.21739053 -0.225208   -0.17540748]\n",
      " [ 0.06738818  0.97601664 -0.07280382 -0.52055725  0.98046554]\n",
      " ...\n",
      " [ 1.20405628 -0.20091988  1.21739053 -0.60960507 -0.01778844]\n",
      " [-0.50094587 -0.78938814 -1.36299818 -0.02842033 -0.22794717]\n",
      " [-1.06927992  1.5644849   1.21739053 -0.30394592 -0.70080431]]\n"
     ]
    }
   ],
   "source": [
    "#1. 변수 지정(독립변수/종속변수)\n",
    "X = df[['Recency', 'Frequency', 'Monetary', '총매출액', '방문빈도']]\n",
    "Y = df['구매카테고리수']\n",
    "\n",
    "#2. 데이터 분할(학습용/평가용 데이터 세트)\n",
    "X_train, X_test, Y_train, Y_test = train_test_split(X, Y, test_size=0.3, random_state=0)\n",
    "\n",
    "#3. 표준화 \n",
    "scaler = StandardScaler()\n",
    "scaler.fit(X_train)\n",
    "X_test = scaler.transform(X_test)\n",
    "X_train = scaler.transform(X_train)\n",
    "print(X_train)\n"
   ]
  },
  {
   "cell_type": "markdown",
   "metadata": {},
   "source": [
    "- 모형 학습 및 예측"
   ]
  },
  {
   "cell_type": "code",
   "execution_count": 6,
   "metadata": {},
   "outputs": [
    {
     "name": "stdout",
     "output_type": "stream",
     "text": [
      "평가용 데이터 세트에 대한 예측값\n",
      " [2.00706948 4.5669254  1.74249683 7.63613622 6.40221522 7.2730901\n",
      " 5.75623758 4.74255615 6.82849588 6.93125122 3.2053192  4.70022877\n",
      " 5.63727114 3.88106944 8.33211371 3.11600832 3.39365606 4.70086425\n",
      " 3.78094348 5.34174242 5.01244468 3.08396247 6.93352678 3.38300584\n",
      " 6.96099569 6.86808214 2.9158183  4.06098619 5.76216331 5.8200694\n",
      " 7.30736983 6.94866784 3.35858298 7.44702155 1.88736993 5.58873307\n",
      " 2.04762641 1.91513529 5.20069888 5.6110035  5.7138426  7.60508939\n",
      " 2.03157688 5.72020774 1.96616202 3.98104311 8.9635812  3.88781075\n",
      " 5.87665848 7.10124939 7.49395375 5.2013576  3.09291002 5.64895624\n",
      " 6.50887014 4.87983843 5.26743112 2.88630164 7.13009345 5.49379309\n",
      " 8.37371512 7.32179087 6.92293094 5.79987529 1.95516242 7.65134673\n",
      " 2.07002211 6.85373071 4.24309458 7.0943764  5.41621262 4.55640693\n",
      " 5.04379371 5.24175005 3.18489396 6.90443051 4.99653884 5.57660943\n",
      " 5.15821272 2.07065684 3.01917079 4.73868116 3.93272535 8.37163623\n",
      " 3.92674628 6.86512944 3.85703709 3.41091456 7.42506203 5.83100396\n",
      " 5.44220726 6.91837281 7.64565037 4.96494577 5.66013504 7.94684515\n",
      " 4.94188491 7.05920366 6.8032949  7.26810337 6.46431763 3.02033735\n",
      " 5.66811516 4.79526195 5.79398832 7.34420213 7.96314    6.83128172\n",
      " 5.22058113 1.81457324 3.97310892 8.21151995 6.13898551 3.38709251\n",
      " 5.67830829 4.82090211 9.11229728 6.84680018 5.75535817 6.25015431\n",
      " 8.97412074 3.7042966  2.13737321 7.6884512  7.16391712 5.48673837\n",
      " 4.66321237 3.6142574  6.8172536  3.07700024 5.08249907 2.08242671\n",
      " 5.56268965 5.21773863 3.97419845 5.13014579 4.21120592 8.4141623\n",
      " 1.80575805 2.01032897 9.06825338 2.90571421 5.77554856 1.90293674\n",
      " 6.89281803 3.47644997 4.70237879 4.84900119 5.48064985 6.38543849\n",
      " 3.14801056 6.37565275 2.17866806 3.23732741 5.00627853 5.13148176\n",
      " 5.91545043 9.1171778  6.16155832 5.8715398  2.8671214  6.87987276\n",
      " 1.83451086 5.23242005 6.92215135 6.85835587 6.98262221 7.83728229\n",
      " 4.35886234 6.83728358 5.1563225  4.84988125 7.32133355 4.43608393\n",
      " 3.11349509 6.8928587  2.81392164 2.24486231 5.36360113 4.05946084\n",
      " 5.77150523 5.13678503 2.05763563 3.09330675 5.70984016 4.03465952\n",
      " 5.71589951 2.16180589 2.33156974 4.00208608 5.7547549  3.38373793\n",
      " 4.76800351 6.26380514 2.94971836 6.95984246 7.17924419 3.46302358\n",
      " 2.20764297 5.5411709  1.85590043 7.40008856 5.79420934 5.8811987\n",
      " 7.68369021 7.32516804 5.18743914 6.98977432 5.05277774 3.04646315\n",
      " 5.00166827 5.18753787 2.84488955 4.90935856 4.99789296 2.86460398\n",
      " 4.89195696 3.28879153 8.8570347  5.46447139 7.36054393 8.30370999\n",
      " 7.07788841 7.46163848 2.25397294 8.10104373 3.22731575 6.96999877\n",
      " 5.88292327 7.27574837 4.81246588 5.54520098 5.19471264 5.964838\n",
      " 3.95490954 6.94055414 9.07487794 7.66443665 5.63731991 7.43346676\n",
      " 4.88831827 8.59949725 2.80543696 5.74438068 7.36543049 6.05255549\n",
      " 8.27495611 3.81450758 4.70615986 1.88976588 3.95057691 5.44852349\n",
      " 8.35106311 4.88324289 5.81030277 4.81185753 4.8973449  3.74441354\n",
      " 5.62341937 6.13666605 7.36590431 6.92027724 7.23629019 5.57300444\n",
      " 5.12277689 3.27504204 7.00178511 4.81422157 7.29789336 3.34932455\n",
      " 3.58309186 5.62401688 8.26249101 8.37907586 5.87449354 3.39993421\n",
      " 1.97262814 3.95056212 6.89804926 1.78442018 6.829123   7.10702877\n",
      " 3.58838687 8.00614964 5.71726873 3.01467681 7.43109583 5.00001188\n",
      " 3.90536309 3.00459248 2.09513211 1.95635801 4.40125081 3.30050182\n",
      " 5.71358064 4.8206649  6.95742374 5.20090844 6.96626117 5.19226234]\n"
     ]
    },
    {
     "name": "stderr",
     "output_type": "stream",
     "text": [
      "C:\\Users\\user\\Anaconda3\\lib\\site-packages\\sklearn\\neural_network\\_multilayer_perceptron.py:571: ConvergenceWarning: Stochastic Optimizer: Maximum iterations (200) reached and the optimization hasn't converged yet.\n",
      "  % self.max_iter, ConvergenceWarning)\n"
     ]
    }
   ],
   "source": [
    "#1. 모듈 및 함수 불러오기\n",
    "from sklearn.ensemble import VotingRegressor\n",
    "from sklearn.neural_network import MLPRegressor\n",
    "from sklearn.svm import SVR\n",
    "\n",
    "#2. 단일 모형 객체 생성 (SVR 모형, k-NN 모형))\n",
    "svr= SVR( )\t\t\t\t\t \n",
    "mlp=MLPRegressor(random_state=0)\t\n",
    "\n",
    "#3. 보팅 앙상블 모형 생성\n",
    "model = VotingRegressor(estimators=[('SVR',svr),('MLP',mlp)] )\n",
    "\n",
    "#4. 모형 학습 및 예측\n",
    "model.fit(X_train , Y_train)\n",
    "Y_pred = model.predict(X_test) \n",
    "print('평가용 데이터 세트에 대한 예측값\\n', Y_pred)\n"
   ]
  },
  {
   "cell_type": "markdown",
   "metadata": {},
   "source": [
    "- 모형 평가"
   ]
  },
  {
   "cell_type": "code",
   "execution_count": 7,
   "metadata": {},
   "outputs": [
    {
     "name": "stderr",
     "output_type": "stream",
     "text": [
      "C:\\Users\\user\\Anaconda3\\lib\\site-packages\\sklearn\\neural_network\\_multilayer_perceptron.py:571: ConvergenceWarning: Stochastic Optimizer: Maximum iterations (200) reached and the optimization hasn't converged yet.\n",
      "  % self.max_iter, ConvergenceWarning)\n"
     ]
    },
    {
     "name": "stdout",
     "output_type": "stream",
     "text": [
      "Voting 앙상블 결정계수: 0.771\n",
      "SVR 결정계수: 0.767\n",
      "MLPRegressor 결정계수: 0.757\n"
     ]
    },
    {
     "name": "stderr",
     "output_type": "stream",
     "text": [
      "C:\\Users\\user\\Anaconda3\\lib\\site-packages\\sklearn\\neural_network\\_multilayer_perceptron.py:571: ConvergenceWarning: Stochastic Optimizer: Maximum iterations (200) reached and the optimization hasn't converged yet.\n",
      "  % self.max_iter, ConvergenceWarning)\n"
     ]
    }
   ],
   "source": [
    "#1. 보팅 모형의 결정계수 \n",
    "model.fit(X_train , Y_train)\n",
    "print('Voting 앙상블 결정계수: {0:.3f}'.format(model.score(X_train , Y_train)))\n",
    "\n",
    "#2. 개별 모형의 결정계수\n",
    "Regressors = [svr, mlp]\n",
    "for Regressor in Regressors:\n",
    "    Regressor.fit(X_train , Y_train)\n",
    "    class_name= Regressor.__class__.__name__\n",
    "    print('{0} 결정계수: {1:.3f}'.format(class_name, Regressor.score(X_train , Y_train)))\n"
   ]
  },
  {
   "cell_type": "code",
   "execution_count": 8,
   "metadata": {},
   "outputs": [
    {
     "name": "stdout",
     "output_type": "stream",
     "text": [
      "RMSE:1.274\n"
     ]
    }
   ],
   "source": [
    "#1. 모듈 및 함수 불러오기\n",
    "from sklearn.metrics import mean_squared_error\n",
    "from math import sqrt\n",
    "\n",
    "#2. RMSE 계산\n",
    "rmse= sqrt(mean_squared_error(Y_test, Y_pred))\n",
    "print('RMSE:{:.3f}'.format(rmse))\n"
   ]
  },
  {
   "cell_type": "markdown",
   "metadata": {},
   "source": [
    "### (2) 랜덤 포레스트 실습"
   ]
  },
  {
   "cell_type": "markdown",
   "metadata": {},
   "source": [
    "#### 1) 분류 예측 실습"
   ]
  },
  {
   "cell_type": "markdown",
   "metadata": {},
   "source": [
    "- 변수 지정 및 전처리"
   ]
  },
  {
   "cell_type": "code",
   "execution_count": 9,
   "metadata": {},
   "outputs": [],
   "source": [
    "#1. 변수 지정 및 데이터 세트 분할\n",
    "X = df[['방문빈도', '1회 평균매출액', '할인권 사용 횟수', '총 할인 금액', '거래기간', '평균 구매주기', '구매유형']]\n",
    "Y = df['고객등급']\n",
    "X_train, X_test, Y_train, Y_test = train_test_split(X, Y, test_size=0.3, random_state=0)\n",
    "\n",
    "#2. 오버 샘플링\n",
    "smote = SMOTE(random_state=0)\n",
    "X_train, Y_train = smote.fit_sample(X_train, Y_train)\n"
   ]
  },
  {
   "cell_type": "markdown",
   "metadata": {},
   "source": [
    "- 모형 학습 및 평가"
   ]
  },
  {
   "cell_type": "code",
   "execution_count": 10,
   "metadata": {},
   "outputs": [
    {
     "name": "stdout",
     "output_type": "stream",
     "text": [
      "평가용 데이터 세트에 대한 예측값\n",
      " [2 2 2 2 2 2 2 2 1 2 1 1 2 1 2 2 2 1 2 1 1 2 2 1 2 1 1 1 1 1 2 1 1 2 2 2 2\n",
      " 2 2 2 1 1 2 2 1 1 1 2 1 2 2 1 1 2 2 1 1 2 2 2 1 2 2 2 1 1 2 1 1 1 2 1 1 1\n",
      " 2 2 1 2 1 1 1 1 1 1 2 1 1 1 2 1 2 2 2 1 1 2 2 2 1 2 1 1 1 2 1 2 1 1 2 2 1\n",
      " 2 2 1 1 1 2 1 1 1 2 1 2 2 2 1 1 1 2 1 1 1 2 2 1 2 1 2 1 2 2 2 1 2 2 2 1 1\n",
      " 2 2 1 2 1 2 1 1 1 2 2 2 1 1 2 2 1 2 2 1 1 2 1 1 2 1 1 1 1 1 2 1 1 1 1 1 2\n",
      " 1 1 2 1 2 2 2 1 1 1 2 1 2 1 2 2 2 1 1 2 2 2 2 1 1 1 1 1 1 1 1 1 1 2 1 2 1\n",
      " 2 1 1 2 1 2 1 2 1 2 1 1 1 2 1 1 1 2 1 1 2 1 2 2 2 2 2 2 1 1 1 1 1 1 1 1 2\n",
      " 2 2 1 2 2 1 2 2 1 2 2 2 2 1 2 1 2 2 2 1 1 1 2 1 2 1 1 2 1 2 2 1 1 2 2 1 1\n",
      " 2 1 2 1]\n"
     ]
    }
   ],
   "source": [
    "#1. 모듈 및 함수 불러오기\n",
    "from sklearn.ensemble import RandomForestClassifier\n",
    "\n",
    "#2. 모형 생성 \n",
    "model = RandomForestClassifier(random_state = 0, n_estimators= 300, max_depth = 5)\n",
    "\n",
    "#3. 모형 학습 및 예측\n",
    "model.fit(X_train, Y_train)\n",
    "\n",
    "#3. 평가용 데이터 세트에 대한 예측값 출력\n",
    "Y_pred = model.predict(X_test)\n",
    "print('평가용 데이터 세트에 대한 예측값\\n', Y_pred)\n"
   ]
  },
  {
   "cell_type": "markdown",
   "metadata": {},
   "source": [
    "- 모형 평가"
   ]
  },
  {
   "cell_type": "code",
   "execution_count": 11,
   "metadata": {},
   "outputs": [
    {
     "name": "stdout",
     "output_type": "stream",
     "text": [
      "학습용 데이터 세트 정확도: 0.885\n",
      "평가용 데이터 세트 정확도: 0.773\n"
     ]
    }
   ],
   "source": [
    "print('학습용 데이터 세트 정확도: {:.3f}'.format(model.score(X_train, Y_train)))\n",
    "print('평가용 데이터 세트 정확도: {:.3f}'.format(model.score(X_test, Y_test)))\n"
   ]
  },
  {
   "cell_type": "code",
   "execution_count": 12,
   "metadata": {},
   "outputs": [
    {
     "name": "stdout",
     "output_type": "stream",
     "text": [
      "              precision    recall  f1-score   support\n",
      "\n",
      "           1       0.72      0.83      0.77       138\n",
      "           2       0.83      0.73      0.78       162\n",
      "\n",
      "    accuracy                           0.77       300\n",
      "   macro avg       0.78      0.78      0.77       300\n",
      "weighted avg       0.78      0.77      0.77       300\n",
      "\n"
     ]
    }
   ],
   "source": [
    "from sklearn.metrics import classification_report  \n",
    "print(classification_report(Y_test, Y_pred))\n"
   ]
  },
  {
   "cell_type": "markdown",
   "metadata": {},
   "source": [
    "#### 2) 수치 예측 실습"
   ]
  },
  {
   "cell_type": "markdown",
   "metadata": {},
   "source": [
    "- 변수 지정 및 전처리"
   ]
  },
  {
   "cell_type": "code",
   "execution_count": 13,
   "metadata": {},
   "outputs": [],
   "source": [
    "#1. 변수 지정(독립변수/종속변수)\n",
    "X = df[['Recency', 'Frequency', 'Monetary', '총매출액', '방문빈도']]\n",
    "Y = df['구매카테고리수']\n",
    "\n",
    "#2. 데이터 분할(학습용/평가용 데이터 세트)\n",
    "X_train, X_test, Y_train, Y_test = train_test_split(X, Y, test_size=0.3, random_state=0)\n"
   ]
  },
  {
   "cell_type": "markdown",
   "metadata": {},
   "source": [
    "- 모형 학습 및 예측"
   ]
  },
  {
   "cell_type": "code",
   "execution_count": 14,
   "metadata": {},
   "outputs": [
    {
     "name": "stdout",
     "output_type": "stream",
     "text": [
      "평가용 데이터 세트에 대한 예측값\n",
      " [1.93831196 4.70263637 1.93749465 7.55753414 7.2217489  7.4156698\n",
      " 5.57655361 5.26619197 7.19852396 7.38324125 2.96873566 5.2033276\n",
      " 5.58424369 3.8297234  7.57759347 3.05454441 3.05454441 5.2033276\n",
      " 4.58368272 4.62449282 5.28534552 3.02201866 7.38324125 3.00331743\n",
      " 7.38324125 6.96007451 3.00331743 3.8297234  3.69690238 5.56171821\n",
      " 7.4156698  7.38324125 3.00331743 6.69121997 1.93831196 5.58424369\n",
      " 1.93831196 1.93863751 5.57655361 5.58424369 5.57236704 8.61927157\n",
      " 1.93831196 5.71893662 1.93378243 3.85869853 8.47322748 3.8297234\n",
      " 4.59633588 7.19418559 7.55753414 5.34866151 3.00331743 5.58424369\n",
      " 7.15324884 4.52053166 5.01134468 3.21959914 7.4156698  5.58424369\n",
      " 8.67781574 7.47802054 6.36005416 4.58084445 1.93831196 8.61927157\n",
      " 1.93831196 7.38324125 4.83997712 7.25228284 5.57655361 2.62390551\n",
      " 5.28534552 5.35152348 3.05454441 7.38324125 5.3050983  5.58424369\n",
      " 5.26537543 1.93945481 3.00331743 5.24920822 3.8297234  8.67781574\n",
      " 3.83889046 7.38324125 3.8297234  3.00331743 7.4156698  5.5074605\n",
      " 5.58424369 7.38324125 8.64598153 5.28534552 5.57236704 7.92557018\n",
      " 4.71062316 6.64932896 7.19852396 7.21875172 7.15324884 3.02201866\n",
      " 5.58424369 4.709431   5.5733943  7.4156698  7.55753414 7.30466419\n",
      " 5.57655361 1.93749465 3.63406043 7.57759347 5.48410079 3.38342891\n",
      " 5.58424369 5.26640918 8.72728966 7.38324125 5.57236704 6.13096176\n",
      " 8.72728966 3.72666842 1.93831196 8.61927157 7.38324125 5.58424369\n",
      " 4.82997331 3.99052446 7.17395783 3.02201866 5.26251346 1.93945481\n",
      " 5.58424369 5.57655361 3.15947379 3.85624958 3.8202226  8.65110579\n",
      " 1.93863751 1.93831196 8.72728966 3.00331743 5.58424369 1.83327459\n",
      " 7.19852396 3.15399896 5.2033276  5.26987072 5.58424369 6.31421607\n",
      " 3.02201866 6.08766216 1.93459974 3.00331743 5.28534552 5.2996949\n",
      " 4.72657096 8.7005797  5.399159   4.92485795 2.96873566 7.38324125\n",
      " 1.93749465 5.3895707  7.38324125 7.38324125 7.38324125 7.55753414\n",
      " 4.90305869 7.18548815 5.28932625 5.26987072 7.4156698  3.66562314\n",
      " 3.00331743 7.38324125 2.96873566 2.84323804 5.57655361 3.7865127\n",
      " 5.58424369 5.32737347 1.93831196 3.00331743 5.58424369 3.55585094\n",
      " 5.58424369 1.93831196 2.81634495 3.18943374 5.58424369 3.00331743\n",
      " 5.2421511  6.35684566 3.00331743 7.38324125 5.57655361 3.99052446\n",
      " 1.93945481 5.58424369 1.93749465 7.47802054 5.58424369 5.57236704\n",
      " 6.95591235 7.4156698  5.57655361 7.38324125 5.28534552 3.00331743\n",
      " 5.15903322 3.84071951 2.96873566 5.31890081 5.28534552 2.69683566\n",
      " 5.28023936 2.96873566 8.72728966 3.69380605 7.4156698  8.41906393\n",
      " 7.40330058 7.40951552 1.93945481 8.72728966 3.00331743 7.38324125\n",
      " 4.83705629 7.4156698  5.26640918 5.58424369 5.34446637 4.71102399\n",
      " 3.79601351 7.38324125 8.65286834 8.64598153 5.13663376 7.4156698\n",
      " 5.28085359 7.90551085 3.00331743 5.58424369 7.4414575  5.71124654\n",
      " 7.57759347 3.8297234  4.5067577  1.93863751 3.8297234  5.2060443\n",
      " 8.65110579 5.28085359 5.52515058 5.26640918 4.67520159 3.72666842\n",
      " 5.58424369 5.24614545 7.4156698  7.38324125 7.4156698  5.57655361\n",
      " 5.28932625 3.05454441 7.38324125 5.26640918 7.43572913 3.38342891\n",
      " 3.15399896 5.58424369 8.4109986  8.65110579 4.83705629 4.32182241\n",
      " 1.93831196 4.52469698 7.38324125 1.93749465 7.15566682 7.4414575\n",
      " 3.72666842 7.65293423 5.58424369 3.00331743 7.40951552 5.28534552\n",
      " 3.8297234  3.00331743 1.93945481 1.93945481 3.14997299 3.05454441\n",
      " 5.56940829 5.26640918 7.38324125 5.34866151 7.38324125 5.34446637]\n"
     ]
    }
   ],
   "source": [
    "#1. 모듈 및 함수 불러오기\n",
    "from sklearn.ensemble import RandomForestRegressor\n",
    "\n",
    "#2. 모형 생성\n",
    "model = RandomForestRegressor(random_state=0, n_estimators= 100, max_depth = 4)\n",
    "\n",
    "#3. 모형 학습 및 예측\n",
    "model.fit(X_train, Y_train)\n",
    "Y_pred = model.predict(X_test)\n",
    "print('평가용 데이터 세트에 대한 예측값\\n', Y_pred)\n"
   ]
  },
  {
   "cell_type": "markdown",
   "metadata": {},
   "source": [
    "- 모형 평가"
   ]
  },
  {
   "cell_type": "code",
   "execution_count": 15,
   "metadata": {},
   "outputs": [
    {
     "name": "stdout",
     "output_type": "stream",
     "text": [
      "학습용 데이터 세트 결정계수: 0.844\n",
      "평가용 데이터 세트 결정계수: 0.742\n"
     ]
    }
   ],
   "source": [
    "print('학습용 데이터 세트 결정계수: {:.3f}'.format(model.score(X_train, Y_train)))\n",
    "print('평가용 데이터 세트 결정계수: {:.3f}'.format(model.score(X_test, Y_test)))\n"
   ]
  },
  {
   "cell_type": "code",
   "execution_count": 16,
   "metadata": {},
   "outputs": [
    {
     "name": "stdout",
     "output_type": "stream",
     "text": [
      "RMSE:1.150\n"
     ]
    }
   ],
   "source": [
    "rmse= sqrt(mean_squared_error(Y_test, Y_pred))\n",
    "print('RMSE:{:.3f}'.format(rmse))\n"
   ]
  },
  {
   "cell_type": "markdown",
   "metadata": {},
   "source": [
    "#### 3) 그래디언트 부스팅 실습"
   ]
  },
  {
   "cell_type": "markdown",
   "metadata": {},
   "source": [
    "- 변수 지정 및 전처리"
   ]
  },
  {
   "cell_type": "code",
   "execution_count": 17,
   "metadata": {},
   "outputs": [],
   "source": [
    "X = df[['방문빈도', '1회 평균매출액', '할인권 사용 횟수', '총 할인 금액', '거래기간', '평균 구매주기', '구매유형']]\n",
    "Y = df['고객등급']\n",
    "X_train, X_test, Y_train, Y_test = train_test_split(X, Y, test_size=0.3, random_state=0)\n",
    "\n",
    "#3. 오버 샘플링\n",
    "smote = SMOTE(random_state=0)\n",
    "X_train, Y_train = smote.fit_sample(X_train, Y_train)\n"
   ]
  },
  {
   "cell_type": "markdown",
   "metadata": {},
   "source": [
    "- 모형 학습 및 예측"
   ]
  },
  {
   "cell_type": "code",
   "execution_count": 18,
   "metadata": {},
   "outputs": [
    {
     "name": "stdout",
     "output_type": "stream",
     "text": [
      "평가용 데이터 세트에 대한 예측값\n",
      " [2 2 2 2 2 2 1 2 1 2 1 1 2 1 2 2 2 1 2 2 1 2 2 1 2 1 1 1 1 1 2 1 1 2 2 2 2\n",
      " 2 2 2 1 1 2 2 1 1 1 1 1 2 2 1 1 2 2 1 1 2 2 2 1 2 2 2 2 1 2 2 2 1 2 2 1 1\n",
      " 2 2 2 2 1 1 1 1 1 1 2 1 2 1 2 1 2 2 1 1 1 2 2 2 1 1 1 1 1 2 1 2 1 1 2 2 1\n",
      " 2 2 1 1 1 2 1 1 1 2 1 2 2 2 1 1 1 2 2 1 1 2 2 1 2 1 2 2 2 2 1 1 2 2 2 1 1\n",
      " 2 2 1 2 1 2 1 1 1 2 2 2 1 1 2 2 1 1 2 1 1 2 1 1 2 1 1 1 1 2 2 2 1 2 2 1 2\n",
      " 1 1 2 1 2 1 1 1 2 1 2 2 1 1 2 2 2 1 1 2 2 2 2 1 1 1 1 1 1 1 1 2 1 2 1 2 2\n",
      " 2 1 1 2 1 2 1 2 1 2 1 1 2 2 1 1 1 2 1 1 2 1 2 1 2 2 2 2 1 1 2 1 1 1 1 1 2\n",
      " 2 2 1 2 1 1 2 2 1 2 2 2 2 2 2 1 2 2 2 1 2 1 2 1 2 1 1 2 1 1 2 1 1 2 2 1 1\n",
      " 2 1 2 1]\n"
     ]
    }
   ],
   "source": [
    "#1. 모듈 및 함수 불러오기\n",
    "from sklearn.ensemble import GradientBoostingClassifier\n",
    "\n",
    "#2. 모형 생성\n",
    "model=GradientBoostingClassifier(random_state=0,  n_estimators=100, max_depth=2, learning_rate=0.1)\n",
    "\n",
    "#3. 모형 학습 및 예측\n",
    "model.fit(X_train, Y_train)\n",
    "Y_pred = model.predict(X_test)\n",
    "\n",
    "print('평가용 데이터 세트에 대한 예측값\\n', Y_pred)\n"
   ]
  },
  {
   "cell_type": "markdown",
   "metadata": {},
   "source": [
    "- 모형 평가"
   ]
  },
  {
   "cell_type": "code",
   "execution_count": 19,
   "metadata": {},
   "outputs": [
    {
     "name": "stdout",
     "output_type": "stream",
     "text": [
      "학습용 데이터 세트 정확도: 0.882\n",
      "평가용 데이터 세트 정확도: 0.803\n"
     ]
    }
   ],
   "source": [
    "print('학습용 데이터 세트 정확도: {:.3f}'.format(model.score(X_train, Y_train)))\n",
    "print('평가용 데이터 세트 정확도: {:.3f}'.format(model.score(X_test, Y_test)))\n"
   ]
  },
  {
   "cell_type": "code",
   "execution_count": 20,
   "metadata": {},
   "outputs": [
    {
     "name": "stdout",
     "output_type": "stream",
     "text": [
      "              precision    recall  f1-score   support\n",
      "\n",
      "           1       0.77      0.83      0.79       138\n",
      "           2       0.84      0.78      0.81       162\n",
      "\n",
      "    accuracy                           0.80       300\n",
      "   macro avg       0.80      0.81      0.80       300\n",
      "weighted avg       0.81      0.80      0.80       300\n",
      "\n"
     ]
    }
   ],
   "source": [
    "from sklearn.metrics import classification_report  \n",
    "print(classification_report(Y_test, Y_pred))\n"
   ]
  },
  {
   "cell_type": "markdown",
   "metadata": {},
   "source": [
    "#### 2) 수치 예측 실습"
   ]
  },
  {
   "cell_type": "markdown",
   "metadata": {},
   "source": [
    "- 변수 지정 및 전처리"
   ]
  },
  {
   "cell_type": "code",
   "execution_count": 21,
   "metadata": {},
   "outputs": [],
   "source": [
    "#1. 변수 지정(독립변수/종속변수)\n",
    "X = df[['총매출액', '방문빈도', 'Recency', 'Frequency', 'Monetary']]\n",
    "Y = df['구매카테고리수']\n",
    "\n",
    "#2. 데이터 분할(학습용/평가용 데이터 세트) \n",
    "X_train, X_test, Y_train, Y_test = train_test_split(X, Y, test_size=0.3, random_state=0)\n"
   ]
  },
  {
   "cell_type": "markdown",
   "metadata": {},
   "source": [
    "- 모형 학습 및 예측"
   ]
  },
  {
   "cell_type": "code",
   "execution_count": 22,
   "metadata": {},
   "outputs": [
    {
     "name": "stdout",
     "output_type": "stream",
     "text": [
      "평가용 데이터 세트에 대한 예측값\n",
      " [1.89219184 4.75703192 1.90784162 7.47409247 6.28556628 7.453841\n",
      " 5.78116906 5.31616757 6.73628658 7.3146796  2.85721856 5.16548974\n",
      " 5.73733674 3.88788524 7.76439432 2.85844578 2.85844578 5.16548974\n",
      " 2.97056508 5.14709044 5.16392684 2.87385354 7.3146796  2.87130543\n",
      " 7.25526436 7.31479913 2.87286833 4.0879744  3.44486867 5.76708219\n",
      " 7.453841   7.34409787 2.85721856 7.04113616 1.89219184 5.6779215\n",
      " 1.89219184 2.04164246 5.30888463 5.6779215  5.72070177 7.71495752\n",
      " 1.89219184 5.91266203 1.90661439 4.21556122 8.73820418 4.03653758\n",
      " 3.6353333  6.44467063 7.47409247 5.16392684 2.82688583 5.73733674\n",
      " 6.73168533 4.76989157 5.07400872 3.63081774 7.453841   5.72430192\n",
      " 8.44174693 7.51759172 5.6322943  5.03924743 1.9075996  7.63185468\n",
      " 1.89219184 7.3121315  4.71921399 6.87738955 5.72430192 1.60214346\n",
      " 5.11950723 5.11950723 2.85844578 7.3146796  5.23025148 5.6779215\n",
      " 5.06450964 1.86063189 3.00632543 5.13515701 3.95451731 8.29264007\n",
      " 2.74499221 7.3121315  3.88550134 2.85721856 7.453841   5.7979335\n",
      " 5.6779215  7.3146796  7.92589857 5.14983997 5.72070177 8.6079507\n",
      " 4.71193811 6.27166631 6.80421999 6.86799733 6.79110058 2.87385354\n",
      " 5.72070177 4.80341234 5.72070177 7.453841   7.53095961 7.15439214\n",
      " 5.30888463 1.90784162 4.02027258 7.80789357 5.69170955 3.49415469\n",
      " 5.73478864 5.17957661 8.88985915 7.15439214 5.72070177 4.82854325\n",
      " 8.68133704 4.08995314 1.9075996  7.71750562 7.3146796  5.71463563\n",
      " 4.84521038 4.05490315 6.4245259  2.87385354 5.07859651 1.89096462\n",
      " 5.6779215  5.73369414 2.91701991 2.76039996 3.93886754 8.02483187\n",
      " 1.99066016 1.89219184 8.68133704 2.8869552  5.72070177 1.44989689\n",
      " 6.67941944 2.85844578 5.16548974 5.16548974 5.72430192 5.6322943\n",
      " 2.87385354 6.00674254 1.89096462 2.87385354 5.11950723 5.16647494\n",
      " 5.53142209 8.47039599 5.6322943  5.42071036 2.87286833 7.3121315\n",
      " 1.92324937 5.19589321 7.3146796  7.3121315  7.25526436 7.53350772\n",
      " 4.70512712 6.9940127  5.14983997 5.16548974 7.453841   3.89709995\n",
      " 2.87130543 7.3121315  2.80623626 2.93928819 5.73369414 3.95550251\n",
      " 5.69036903 5.19589321 1.9075996  2.82688583 5.73478864 4.08227786\n",
      " 5.69036903 1.89219184 3.15741103 2.85844578 5.73478864 2.93923884\n",
      " 5.16548974 7.17193222 2.87286833 7.3146796  6.64711167 3.55911843\n",
      " 1.90505149 5.72430192 1.89219184 7.56417455 5.72070177 5.76708219\n",
      " 7.6866587  7.453841   5.28873163 7.25526436 5.16392684 2.87130543\n",
      " 4.96735759 4.31242127 2.80623626 5.34500008 5.14983997 2.51225098\n",
      " 5.18212472 2.85721856 8.87479514 3.96701031 7.6472991  7.87744963\n",
      " 7.25526436 7.51070814 1.89096462 8.68133704 2.87130543 7.25526436\n",
      " 5.68916144 7.453841   5.16548974 5.6779215  5.14983997 5.53142209\n",
      " 3.95574453 7.3146796  8.33919104 7.92589857 5.07899202 7.51070814\n",
      " 5.29894683 8.66318918 2.80623626 5.73478864 7.09783896 5.74237099\n",
      " 7.80789357 3.49779981 4.75703192 1.92070126 3.95451731 4.95718947\n",
      " 8.08169901 5.29894683 5.72070177 5.16548974 4.76989157 4.08995314\n",
      " 5.72450432 6.07190849 7.51325624 7.3121315  7.453841   5.4542665\n",
      " 5.11950723 2.85844578 7.25526436 5.13515701 7.453841   3.51078967\n",
      " 2.85844578 5.73733674 7.45465396 8.08169901 5.83826831 4.37015506\n",
      " 1.9075996  4.52304501 7.3146796  1.90784162 6.59321604 7.03842371\n",
      " 4.08995314 7.56907729 5.73478864 2.97599269 7.453841   5.14983997\n",
      " 3.95451731 3.15700326 1.90505149 1.9075996  2.93333651 2.85844578\n",
      " 5.72070177 5.17957661 7.3146796  5.16392684 7.25526436 5.14983997]\n"
     ]
    }
   ],
   "source": [
    "#1. 모듈 및 함수 불러오기\n",
    "from sklearn.ensemble import GradientBoostingRegressor\n",
    "\n",
    "#2. 모형 생성\n",
    "model = GradientBoostingRegressor(random_state =0, max_depth=2, n_estimators = 100, learning_rate=0.1)\n",
    "\n",
    "#3. 모형 학습 및 예측\n",
    "model.fit(X_train, Y_train)\n",
    "Y_pred = model.predict(X_test)\n",
    "print('평가용 데이터 세트에 대한 예측값\\n', Y_pred)\n"
   ]
  },
  {
   "cell_type": "markdown",
   "metadata": {},
   "source": [
    "- 모형 평가"
   ]
  },
  {
   "cell_type": "code",
   "execution_count": 23,
   "metadata": {},
   "outputs": [
    {
     "name": "stdout",
     "output_type": "stream",
     "text": [
      "학습용 데이터 세트 결정계수: 0.841\n",
      "평가용 데이터 세트 결정계수: 0.726\n"
     ]
    }
   ],
   "source": [
    "print('학습용 데이터 세트 결정계수: {:.3f}'.format(model.score(X_train, Y_train)))\n",
    "print('평가용 데이터 세트 결정계수: {:.3f}'.format(model.score(X_test, Y_test)))\n"
   ]
  },
  {
   "cell_type": "code",
   "execution_count": 24,
   "metadata": {},
   "outputs": [
    {
     "name": "stdout",
     "output_type": "stream",
     "text": [
      "RMSE:1.186\n"
     ]
    }
   ],
   "source": [
    "rms = sqrt(mean_squared_error(Y_test, Y_pred))\n",
    "print('RMSE:{:.3f}'.format(rms))"
   ]
  }
 ],
 "metadata": {
  "kernelspec": {
   "display_name": "Python 3",
   "language": "python",
   "name": "python3"
  },
  "language_info": {
   "codemirror_mode": {
    "name": "ipython",
    "version": 3
   },
   "file_extension": ".py",
   "mimetype": "text/x-python",
   "name": "python",
   "nbconvert_exporter": "python",
   "pygments_lexer": "ipython3",
   "version": "3.7.4"
  }
 },
 "nbformat": 4,
 "nbformat_minor": 2
}
