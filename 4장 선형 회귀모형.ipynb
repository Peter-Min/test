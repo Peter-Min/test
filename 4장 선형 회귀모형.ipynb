{
 "cells": [
  {
   "cell_type": "markdown",
   "metadata": {},
   "source": [
    "## 4장 선형 회귀모형"
   ]
  },
  {
   "cell_type": "markdown",
   "metadata": {},
   "source": [
    "## [1] 표준 선형 회귀모형"
   ]
  },
  {
   "cell_type": "markdown",
   "metadata": {},
   "source": [
    "- 종속변수 분포 확인 및 로그변환"
   ]
  },
  {
   "cell_type": "code",
   "execution_count": 1,
   "metadata": {},
   "outputs": [
    {
     "data": {
      "text/plain": [
       "<matplotlib.axes._subplots.AxesSubplot at 0x177d5ab6e48>"
      ]
     },
     "execution_count": 1,
     "metadata": {},
     "output_type": "execute_result"
    }
   ],
   "source": [
    "#1. 모듈 및 함수 불러오기\n",
    "import pandas as pd\n",
    "from matplotlib import rc, font_manager\n",
    "import matplotlib.pyplot as plt\n",
    "import seaborn as sns\n",
    "import numpy as np\n",
    "\n",
    "#2. 데이터 불러오기\n",
    "df = pd.read_csv('Ashopping.csv', encoding = 'cp949')\n",
    "\n",
    "#3. 폰트 설정\n",
    "font_name = font_manager.FontProperties(fname='c:/Windows/Fonts/malgun.ttf').get_name()\n",
    "plt.rc('font', family=font_name)\n",
    "\n",
    "#4. 히스토그램 생성\n",
    "plt.title('평균 구매주기 분포')\n",
    "sns.distplot(df['평균 구매주기'])"
   ]
  },
  {
   "cell_type": "code",
   "execution_count": 2,
   "metadata": {},
   "outputs": [
    {
     "data": {
      "text/plain": [
       "<matplotlib.axes._subplots.AxesSubplot at 0x177d5e6d5c8>"
      ]
     },
     "execution_count": 2,
     "metadata": {},
     "output_type": "execute_result"
    },
    {
     "data": {
      "image/png": "[encoded data removed]",
      "text/plain": [
       "<Figure size 432x288 with 1 Axes>"
      ]
     },
     "metadata": {
      "needs_background": "light"
     },
     "output_type": "display_data"
    }
   ],
   "source": [
    "plt.title('로그 변환 후 평균 구매주기')\n",
    "df['평균 구매주기'] = np.log1p(df['평균 구매주기']) \n",
    "sns.distplot(df['평균 구매주기'])"
   ]
  },
  {
   "cell_type": "markdown",
   "metadata": {},
   "source": [
    "- 변수 지정 및 전처리"
   ]
  },
  {
   "cell_type": "code",
   "execution_count": 3,
   "metadata": {},
   "outputs": [
    {
     "name": "stdout",
     "output_type": "stream",
     "text": [
      "[[-0.42215576 -0.59782402  0.72324173 ...  0.          1.\n",
      "   0.        ]\n",
      " [-0.6083987  -1.00741459 -1.79440286 ...  0.          0.\n",
      "   1.        ]\n",
      " [-0.2500946  -0.40701694 -1.31485151 ...  0.          1.\n",
      "   0.        ]\n",
      " ...\n",
      " [-0.29773811 -0.58709878  0.12380254 ...  0.          0.\n",
      "   1.        ]\n",
      " [ 1.92032808  1.86162735  0.96301741 ...  0.          0.\n",
      "   1.        ]\n",
      " [-0.40386402 -0.37164656  0.36357822 ...  0.          1.\n",
      "   0.        ]]\n"
     ]
    }
   ],
   "source": [
    "#1. 모듈 및 함수 불러오기\n",
    "from sklearn.model_selection import train_test_split\n",
    "from sklearn.compose import ColumnTransformer\n",
    "from sklearn.preprocessing import StandardScaler\n",
    "from sklearn.preprocessing import OneHotEncoder\n",
    "\n",
    "#2. 변수 지정(독립변수/종속변수)\n",
    "num=['총매출액', '1회 평균매출액', '할인권 사용 횟수','총 할인 금액', '구매카테고리수','Recency', 'Frequency', 'Monetary']\n",
    "cg=['구매금액대', '고객등급', '구매유형', '클레임접수여부', '거주지역', '성별', '고객 나이대', '할인민감여부']\n",
    "X = df[df.이탈여부==0][num+cg]\n",
    "Y = df[df.이탈여부==0]['평균 구매주기']\n",
    "\n",
    "#3. 데이터 분할(학습용/평가용 데이터 세트)\n",
    "X_train, X_test, Y_train, Y_test = train_test_split(X, Y, test_size=0.3, random_state=0)\n",
    "\n",
    "#4. 표준화 및 원핫인코딩 \n",
    "ct = ColumnTransformer([('scaling', StandardScaler(), num), ('onehot', OneHotEncoder(sparse=False), cg)])\n",
    "ct.fit(X_train)\n",
    "X_train=ct.transform(X_train)\n",
    "X_test=ct.transform(X_test)\n",
    "\n",
    "print(X_train)"
   ]
  },
  {
   "cell_type": "code",
   "execution_count": 4,
   "metadata": {},
   "outputs": [
    {
     "data": {
      "text/plain": [
       "array([-0.42215576, -0.59782402,  0.72324173,  0.52150413,  1.67181667,\n",
       "        1.17304721, -0.24075719,  0.52402175,  1.        ,  0.        ,\n",
       "        0.        ,  1.        ,  0.        ,  0.        ,  0.        ,\n",
       "        1.        ,  0.        ,  0.        ,  1.        ,  0.        ,\n",
       "        0.        ,  0.        ,  0.        ,  1.        ,  0.        ,\n",
       "        0.        ,  1.        ,  0.        ,  0.        ,  0.        ,\n",
       "        1.        ,  0.        ,  0.        ,  0.        ,  1.        ,\n",
       "        0.        ])"
      ]
     },
     "execution_count": 4,
     "metadata": {},
     "output_type": "execute_result"
    }
   ],
   "source": [
    "X_train[0]"
   ]
  },
  {
   "cell_type": "markdown",
   "metadata": {},
   "source": [
    "- 모형 학습 및 예측"
   ]
  },
  {
   "cell_type": "code",
   "execution_count": 5,
   "metadata": {},
   "outputs": [
    {
     "name": "stdout",
     "output_type": "stream",
     "text": [
      "평가용 데이터 세트에 대한 예측값\n",
      " [6.13573495 5.34562889 5.32896881 6.48592896 4.86209948 5.9761075\n",
      " 4.4649046  3.81497688 5.15049964 5.74438012 5.58790986 3.37917868\n",
      " 4.33357216 5.3252217  5.7649413  4.95088547 5.3161975  5.72442683\n",
      " 5.43107536 5.3447842  5.63700811 5.16301685 5.58950163 5.17823711\n",
      " 4.60315224 5.50286467 5.731194   4.13188342 4.53369455 5.38803383\n",
      " 5.48792933 5.60519525 5.15121609 5.8116833  5.49704332 5.47353054\n",
      " 5.14804812 5.68572849 5.36493402 6.5175604  5.32799514 4.26039143\n",
      " 4.72286775 4.27750187 4.9205606  6.02695379 4.82550289 5.38998865\n",
      " 5.42736081 5.96661632 5.58093655 6.25700095 4.77964868 4.75538453\n",
      " 5.37226445 5.24324981 5.10351538 5.60356244 4.14316836 5.00064284\n",
      " 5.22737597 4.90461804 4.34811855 5.68501403 4.62530251 5.59204553\n",
      " 5.59638941 4.88200038 5.53061085 3.26233552 5.50156258 4.97082763\n",
      " 5.16992009 4.91962063 4.03301317 5.75742    5.77881543 5.42481\n",
      " 4.00026693 4.99203941 4.93368128 5.56685127 5.39570353 4.56896648\n",
      " 5.60563675 5.09561921 5.13201608 5.42929561 4.0194801  5.63289325\n",
      " 5.39611276 5.42895371 5.0790544  5.26601628 4.7568284  6.25877251\n",
      " 5.70366389 4.64534727 5.61969827 3.72192224 4.29997218 5.18182378\n",
      " 5.59247797 5.42166702 5.54126241 4.64527649 5.43773073 5.3106425\n",
      " 5.45993586 4.55651784 5.70616069 5.37987598 5.73165855 5.92822654\n",
      " 5.51789863 4.58423394 4.96322657 5.28430261 4.73047685 4.87294955\n",
      " 5.17081088 5.52256853 5.32707346 4.90949227 5.21473573 5.52693244\n",
      " 4.91923333 4.05188784 5.17907221 4.67253033 3.41946021 5.1780488\n",
      " 5.92767946 5.31273502 5.37330723 5.23528683 4.40094806 5.5124787\n",
      " 4.94476809 4.89704165 5.57910923 5.89729989 5.17174655 5.35062625\n",
      " 4.69509242 5.74671264 5.48286472 5.89013634 3.73121421 5.31917702\n",
      " 4.54797004 4.92208795 5.22635985 4.6846746  6.22360174 5.02343161\n",
      " 3.49894715 7.20086151 5.18854905 5.39908113 5.34765474 5.7615897\n",
      " 6.04457129 4.43438124 4.88600613 5.32995586 5.66288742 4.85378608\n",
      " 5.57918889 5.18961919 3.06026011 5.45660347 4.77901678 6.07517699\n",
      " 4.30703423 5.29700102 7.40222806 4.40149519 5.63273105 4.43466675\n",
      " 7.3974969  6.13330016 5.97373348 5.67422347 5.50993008 5.36054232\n",
      " 5.42157053 5.502462   4.25389539 5.4706423  5.68862658 5.21186246\n",
      " 6.04542839 3.71829113 5.24538912 5.45415364 5.49067229 4.54699406\n",
      " 5.35812422 4.33872329 6.44141043 3.8030369  5.32919263 5.387285\n",
      " 5.25149837 4.52412353 5.08967317 5.66142779 5.69368538 5.07292783]\n"
     ]
    }
   ],
   "source": [
    "#1. 모듈 및 함수 불러오기\n",
    "from sklearn.linear_model import LinearRegression\n",
    "\n",
    "#2 모형 학습\n",
    "lr= LinearRegression().fit(X_train, Y_train)\n",
    "\n",
    "#3 모형 예측\n",
    "Y_pred = lr.predict(X_test)\n",
    "print('평가용 데이터 세트에 대한 예측값\\n', Y_pred)"
   ]
  },
  {
   "cell_type": "markdown",
   "metadata": {},
   "source": [
    "- 모형 평가"
   ]
  },
  {
   "cell_type": "code",
   "execution_count": 6,
   "metadata": {},
   "outputs": [
    {
     "name": "stdout",
     "output_type": "stream",
     "text": [
      "학습용 데이터 세트 결정계수: 0.742\n",
      "평가용 데이터 세트 결정계수: 0.726\n"
     ]
    }
   ],
   "source": [
    "print('학습용 데이터 세트 결정계수: {:.3f}'.format(lr.score(X_train, Y_train)))\n",
    "print('평가용 데이터 세트 결정계수: {:.3f}'.format(lr.score(X_test, Y_test)))"
   ]
  },
  {
   "cell_type": "code",
   "execution_count": 7,
   "metadata": {},
   "outputs": [
    {
     "name": "stdout",
     "output_type": "stream",
     "text": [
      "RMSE: 0.384\n"
     ]
    }
   ],
   "source": [
    "#1. 모듈 및 함수 불러오기\n",
    "from sklearn.metrics import mean_squared_error\n",
    "from math import sqrt\n",
    "\n",
    "#2. RMSE 계산\n",
    "rmse= sqrt(mean_squared_error(Y_test, Y_pred))\n",
    "print('RMSE: {:.3f}'.format(rmse))"
   ]
  },
  {
   "cell_type": "markdown",
   "metadata": {},
   "source": [
    "- 절편 및 가중치 출력"
   ]
  },
  {
   "cell_type": "code",
   "execution_count": 8,
   "metadata": {},
   "outputs": [
    {
     "name": "stdout",
     "output_type": "stream",
     "text": [
      "절편:  5.202\n",
      "가중치:  [-0.165  0.386 -0.015 -0.009  0.054 -0.008 -0.306  0.013  0.323  0.023\n",
      " -0.346  0.013 -0.013  0.036  0.029  0.01  -0.075 -0.071  0.071  0.434\n",
      " -0.091 -0.058 -0.177 -0.025 -0.082 -0.    -0.057  0.057 -0.377  0.\n",
      "  0.052  0.045  0.06   0.22  -0.11   0.11 ]\n"
     ]
    }
   ],
   "source": [
    "print('절편: ', np.round(lr.intercept_, 3))\n",
    "print('가중치: ', np.round(lr.coef_, 3))"
   ]
  },
  {
   "cell_type": "code",
   "execution_count": 9,
   "metadata": {},
   "outputs": [
    {
     "data": {
      "text/plain": [
       "0.434"
      ]
     },
     "execution_count": 9,
     "metadata": {},
     "output_type": "execute_result"
    }
   ],
   "source": [
    "max(np.round(lr.coef_, 3))"
   ]
  },
  {
   "cell_type": "markdown",
   "metadata": {},
   "source": [
    "### [2] 릿지 선형 회귀모형"
   ]
  },
  {
   "cell_type": "markdown",
   "metadata": {},
   "source": [
    "- 모형 학습 및 예측"
   ]
  },
  {
   "cell_type": "code",
   "execution_count": 10,
   "metadata": {},
   "outputs": [
    {
     "name": "stdout",
     "output_type": "stream",
     "text": [
      "평가용 데이터 세트에 대한 예측값\n",
      " [6.13503174 5.35122868 5.3348788  6.48808354 4.86546971 5.97985706\n",
      " 4.47093419 3.82226064 5.15240472 5.74497716 5.5890913  3.36695845\n",
      " 4.33827463 5.32562703 5.7681992  4.9500171  5.31215907 5.71774994\n",
      " 5.43204398 5.23252744 5.63545283 5.15950252 5.59772127 5.17306471\n",
      " 4.60781568 5.50059069 5.73311864 4.13965277 4.53229514 5.38740546\n",
      " 5.48563923 5.59746635 5.14742521 5.81249319 5.50218793 5.47445221\n",
      " 5.15624358 5.68405625 5.3613745  6.5231375  5.32735496 4.27044768\n",
      " 4.7258389  4.28608802 4.91887257 6.02842429 4.83198226 5.38907175\n",
      " 5.42221914 5.96313468 5.57875414 6.25284098 4.77962028 4.75905506\n",
      " 5.36542399 5.24613873 5.10468003 5.60449406 4.1587125  4.9981494\n",
      " 5.22082494 4.90776094 4.34980286 5.68680208 4.62471399 5.58577228\n",
      " 5.59217393 4.88246197 5.53965379 3.2733976  5.50197961 4.97205304\n",
      " 5.1710552  4.92826425 4.03720676 5.76231538 5.78279785 5.42317097\n",
      " 4.00829467 5.00283367 4.93457925 5.56371633 5.40395771 4.56753535\n",
      " 5.6055676  5.09546666 5.12637565 5.42836816 4.02778859 5.6301685\n",
      " 5.39322428 5.43688177 5.07749492 5.27714656 4.76864461 6.26190345\n",
      " 5.70300732 4.64244448 5.61659327 3.72746454 4.31165156 5.17677933\n",
      " 5.59171963 5.42143124 5.54604272 4.64632641 5.41429668 5.30881323\n",
      " 5.4572897  4.55860056 5.70700676 5.38111362 5.72725985 5.9264962\n",
      " 5.51707742 4.59204703 4.96202513 5.28400078 4.73687027 4.87100111\n",
      " 5.17262466 5.51928135 5.32094769 4.90954129 5.21555572 5.52442562\n",
      " 4.92019468 4.05805802 5.17894335 4.68418801 3.42656095 5.17666391\n",
      " 5.9194946  5.3146291  5.36992884 5.23470061 4.40164632 5.51324134\n",
      " 4.9525605  4.90749547 5.57870704 5.87460524 5.17836036 5.35164179\n",
      " 4.69162267 5.74727471 5.47862106 5.88946093 3.72585257 5.31837563\n",
      " 4.5488038  4.9245473  5.23267127 4.68889146 6.22410932 5.02383153\n",
      " 3.50100784 7.19556638 5.20065199 5.39438812 5.34922572 5.76216821\n",
      " 6.0414825  4.43373826 4.88629938 5.33140624 5.66126794 4.85464305\n",
      " 5.57636801 5.1658069  3.07904596 5.45225554 4.78004011 6.07127226\n",
      " 4.31488008 5.29547937 7.39623967 4.40610878 5.62916949 4.43374353\n",
      " 7.3981861  6.13470282 5.97066436 5.67459563 5.51098761 5.35643316\n",
      " 5.41937946 5.50106778 4.26100039 5.46746262 5.68904637 5.20834598\n",
      " 6.03899141 3.72015432 5.24597364 5.45066728 5.495362   4.54319159\n",
      " 5.35891286 4.3440162  6.43849275 3.80240281 5.33427433 5.38575421\n",
      " 5.24613479 4.52352857 5.0917006  5.65989683 5.68905068 5.07491017]\n"
     ]
    }
   ],
   "source": [
    "#1. 모듈 및 함수 불러오기\n",
    "from sklearn.linear_model import Ridge\n",
    "\n",
    "#2. 모형 학습 및 예측\n",
    "Rr=Ridge(random_state=0).fit(X_train, Y_train)\n",
    "Y_pred = Rr.predict(X_test)\n",
    "\n",
    "print('평가용 데이터 세트에 대한 예측값\\n', Y_pred)"
   ]
  },
  {
   "cell_type": "markdown",
   "metadata": {},
   "source": [
    "- 모형 평가"
   ]
  },
  {
   "cell_type": "code",
   "execution_count": 11,
   "metadata": {},
   "outputs": [
    {
     "name": "stdout",
     "output_type": "stream",
     "text": [
      "학습용 데이터 세트 결정계수: 0.742\n",
      "평가용 데이터 세트 결정계수: 0.728\n"
     ]
    }
   ],
   "source": [
    "print('학습용 데이터 세트 결정계수: {:.3f}'.format(Rr.score(X_train, Y_train)))\n",
    "print('평가용 데이터 세트 결정계수: {:.3f}'.format(Rr.score(X_test, Y_test)))"
   ]
  },
  {
   "cell_type": "code",
   "execution_count": 12,
   "metadata": {},
   "outputs": [
    {
     "name": "stdout",
     "output_type": "stream",
     "text": [
      "RMSE: 0.382\n"
     ]
    }
   ],
   "source": [
    "rmse= sqrt(mean_squared_error(Y_test, Y_pred))\n",
    "print('RMSE: {:.3f}'.format(rmse))"
   ]
  },
  {
   "cell_type": "markdown",
   "metadata": {},
   "source": [
    "- 절편 및 가중치 출력"
   ]
  },
  {
   "cell_type": "code",
   "execution_count": 13,
   "metadata": {},
   "outputs": [
    {
     "name": "stdout",
     "output_type": "stream",
     "text": [
      "절편:  5.186\n",
      "가중치:  [-0.167  0.386 -0.014 -0.009  0.052 -0.009 -0.304  0.013  0.318  0.021\n",
      " -0.339  0.016 -0.016  0.034  0.028  0.013 -0.075 -0.071  0.071  0.334\n",
      " -0.069 -0.042 -0.16  -0.011 -0.067  0.014 -0.057  0.057 -0.364  0.001\n",
      "  0.055  0.048  0.059  0.201 -0.109  0.109]\n"
     ]
    }
   ],
   "source": [
    "print('절편: ', np.round(Rr.intercept_, 3))\n",
    "print('가중치: ', np.round(Rr.coef_, 3))"
   ]
  },
  {
   "cell_type": "markdown",
   "metadata": {},
   "source": [
    "### [3] 라쏘 선형 회귀모형"
   ]
  },
  {
   "cell_type": "markdown",
   "metadata": {},
   "source": [
    "- 모형 학습 및 예측"
   ]
  },
  {
   "cell_type": "code",
   "execution_count": 14,
   "metadata": {},
   "outputs": [
    {
     "name": "stdout",
     "output_type": "stream",
     "text": [
      "평가용 데이터 세트에 대한 예측값\n",
      " [6.11954849 5.35745258 5.34822792 6.48990106 4.86786627 5.96240577\n",
      " 4.46364808 3.82927033 5.15909009 5.73217567 5.59973977 3.36812278\n",
      " 4.34705073 5.32536364 5.78268016 4.94554382 5.2944851  5.72355324\n",
      " 5.44774688 5.19074412 5.63302274 5.15359217 5.61652506 5.1709\n",
      " 4.62418636 5.50456773 5.73783263 4.15526714 4.53180588 5.39242593\n",
      " 5.47446012 5.60207345 5.13924485 5.81121649 5.52027948 5.47434721\n",
      " 5.1494657  5.67961937 5.36398548 6.53273395 5.33720282 4.29270608\n",
      " 4.73080292 4.29024208 4.92578976 6.02958819 4.84102237 5.38703924\n",
      " 5.40845303 5.94219814 5.56992403 6.23445295 4.75375835 4.7675725\n",
      " 5.36589372 5.25293495 5.10651131 5.61046474 4.16520067 4.98927338\n",
      " 5.20111486 4.90943289 4.3518893  5.67980952 4.62521064 5.57360464\n",
      " 5.58461405 4.86500077 5.53709299 3.26618331 5.5060303  4.96279041\n",
      " 5.17240679 4.92715548 4.04461009 5.77174363 5.79723513 5.42278215\n",
      " 4.00789751 5.00678718 4.93848501 5.54803465 5.44122451 4.55135878\n",
      " 5.60287004 5.10107289 5.1274264  5.43848619 4.03721121 5.63020696\n",
      " 5.39253603 5.43958367 5.07642511 5.31280271 4.77447216 6.27570784\n",
      " 5.69584961 4.65175517 5.60856357 3.73065049 4.31961063 5.17308506\n",
      " 5.5890085  5.41815845 5.55709857 4.65295846 5.39072479 5.30850011\n",
      " 5.44403996 4.5761253  5.7074536  5.37826756 5.7174768  5.92403418\n",
      " 5.52637892 4.59947007 4.96938549 5.29076187 4.74536355 4.88709584\n",
      " 5.17760066 5.50385749 5.29770389 4.90144144 5.22359872 5.52488738\n",
      " 4.91519026 4.07142726 5.1628113  4.69805809 3.43816573 5.16671739\n",
      " 5.89589155 5.32268323 5.34777046 5.23159317 4.38321226 5.51424571\n",
      " 4.9624424  4.90673286 5.58218075 5.83095181 5.18773067 5.35533973\n",
      " 4.68265704 5.73521175 5.47491285 5.89001091 3.73303116 5.31635921\n",
      " 4.53931146 4.92045455 5.23494054 4.68132235 6.22135499 5.02177053\n",
      " 3.48916231 7.21267234 5.19041248 5.37799726 5.35833318 5.74897562\n",
      " 6.02533604 4.42964085 4.88230899 5.3385962  5.65130177 4.86777864\n",
      " 5.57456895 5.12883718 3.06475625 5.4503175  4.78192216 6.06448103\n",
      " 4.30669454 5.30171707 7.39129862 4.42533952 5.63088829 4.42009192\n",
      " 7.40297254 6.14711686 5.96211425 5.67754981 5.50378277 5.35446622\n",
      " 5.42872913 5.503512   4.24951248 5.46747974 5.68282513 5.20327923\n",
      " 6.03058674 3.70802336 5.25328138 5.43847934 5.5081321  4.52579999\n",
      " 5.35962002 4.33530482 6.42649768 3.80737451 5.33744103 5.37409518\n",
      " 5.24775167 4.53908509 5.1105351  5.64990783 5.68543853 5.08897237]\n"
     ]
    }
   ],
   "source": [
    "#1. 모듈 및 함수 불러오기\n",
    "from sklearn.linear_model import Lasso\n",
    "\n",
    "#2. 모형 학습 및 예측\n",
    "Lr=Lasso(random_state=0, alpha=0.001, max_iter=10000).fit(X_train, Y_train)\n",
    "Y_pred = Lr.predict(X_test)\n",
    "\n",
    "print('평가용 데이터 세트에 대한 예측값\\n', Y_pred)"
   ]
  },
  {
   "cell_type": "markdown",
   "metadata": {},
   "source": [
    "- 모형 평가"
   ]
  },
  {
   "cell_type": "code",
   "execution_count": 16,
   "metadata": {},
   "outputs": [
    {
     "name": "stdout",
     "output_type": "stream",
     "text": [
      "학습용 데이터 세트 결정계수: 0.741\n",
      "평가용 데이터 세트 결정계수: 0.730\n"
     ]
    }
   ],
   "source": [
    "print('학습용 데이터 세트 결정계수: {:.3f}'.format(Lr.score(X_train, Y_train)))\n",
    "print('평가용 데이터 세트 결정계수: {:.3f}'.format(Lr.score(X_test, Y_test)))"
   ]
  },
  {
   "cell_type": "code",
   "execution_count": 17,
   "metadata": {},
   "outputs": [
    {
     "name": "stdout",
     "output_type": "stream",
     "text": [
      "RMSE: 0.381\n"
     ]
    }
   ],
   "source": [
    "rmse= sqrt(mean_squared_error(Y_test, Y_pred))\n",
    "print('RMSE: {:.3f}'.format(rmse))"
   ]
  },
  {
   "cell_type": "markdown",
   "metadata": {},
   "source": [
    "- 절편 및 가중치 출력"
   ]
  },
  {
   "cell_type": "code",
   "execution_count": 18,
   "metadata": {},
   "outputs": [
    {
     "name": "stdout",
     "output_type": "stream",
     "text": [
      "사용한 변수의 개수:  36\n",
      "절편:  5.448\n",
      "가중치:  [-0.167  0.386 -0.013 -0.009  0.047 -0.004 -0.301  0.011  0.298 -0.\n",
      " -0.358  0.03  -0.     0.005  0.007 -0.    -0.087 -0.137  0.     0.317\n",
      " -0.    -0.    -0.113  0.024 -0.022  0.043 -0.108  0.    -0.417 -0.047\n",
      "  0.    -0.     0.     0.113 -0.216  0.   ]\n"
     ]
    }
   ],
   "source": [
    "print('사용한 변수의 개수: ', len(Lr.coef_!=0))\n",
    "print('절편: ', np.round(Lr.intercept_, 3))\n",
    "print('가중치: ', np.round(Lr.coef_, 3))"
   ]
  }
 ],
 "metadata": {
  "kernelspec": {
   "display_name": "Python 3",
   "language": "python",
   "name": "python3"
  },
  "language_info": {
   "codemirror_mode": {
    "name": "ipython",
    "version": 3
   },
   "file_extension": ".py",
   "mimetype": "text/x-python",
   "name": "python",
   "nbconvert_exporter": "python",
   "pygments_lexer": "ipython3",
   "version": "3.7.4"
  }
 },
 "nbformat": 4,
 "nbformat_minor": 2
}
