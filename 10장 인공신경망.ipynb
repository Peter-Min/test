{
 "cells": [
  {
   "cell_type": "markdown",
   "metadata": {},
   "source": [
    "## 10장 인공신경망"
   ]
  },
  {
   "cell_type": "markdown",
   "metadata": {},
   "source": [
    "### (1) 분류 예측 실습"
   ]
  },
  {
   "cell_type": "markdown",
   "metadata": {},
   "source": [
    "- 변수 지정 및 전처리"
   ]
  },
  {
   "cell_type": "code",
   "execution_count": 1,
   "metadata": {},
   "outputs": [
    {
     "name": "stderr",
     "output_type": "stream",
     "text": [
      "Using TensorFlow backend.\n"
     ]
    }
   ],
   "source": [
    "#1. 모듈 및 함수 불러오기\n",
    "import pandas as pd\n",
    "from sklearn.model_selection import train_test_split\n",
    "from sklearn.compose import ColumnTransformer\n",
    "from sklearn.preprocessing import StandardScaler\n",
    "from sklearn.preprocessing import OneHotEncoder\n",
    "from imblearn.over_sampling import SMOTE\n",
    "\n",
    "\n",
    "#2. 변수 지정(독립변수/종속변수)\n",
    "df = pd.read_csv('Ashopping.csv', encoding = 'cp949')\n",
    "X = df[['총매출액', '구매금액대', '1회 평균매출액','거래기간', '평균 구매주기']]\n",
    "Y = df['할인민감여부']\n",
    "\n",
    "#3. 데이터 분할(학습용/평가용 데이터 세트)\n",
    "X_train, X_test, Y_train, Y_test = train_test_split(X, Y, test_size=0.3, random_state=0)\n",
    "\n",
    "#4. 전처리(표준화, 원핫 인코딩) \n",
    "ct = ColumnTransformer([('scaling', StandardScaler(), ['총매출액', '1회 평균매출액', '거래기간', \n",
    "'평균 구매주기']), ('onehot', OneHotEncoder(sparse = False),['구매금액대'])])\n",
    "ct.fit(X_train)\n",
    "X_train=ct.transform(X_train)\n",
    "X_test=ct.transform(X_test)\n",
    "\n",
    "#5. 오버 샘플링\n",
    "smote = SMOTE(random_state=0)\n",
    "X_train, Y_train = smote.fit_sample(X_train, Y_train)\n"
   ]
  },
  {
   "cell_type": "markdown",
   "metadata": {},
   "source": [
    "- 모형 학습 및 예측"
   ]
  },
  {
   "cell_type": "code",
   "execution_count": 2,
   "metadata": {},
   "outputs": [
    {
     "name": "stdout",
     "output_type": "stream",
     "text": [
      "평가용 데이터 세트에 대한 예측값\n",
      " [1 1 0 0 1 1 0 0 0 1 0 1 1 0 1 0 1 0 0 0 0 1 0 0 1 1 0 0 0 0 1 1 1 1 1 1 1\n",
      " 0 1 0 0 1 1 1 0 0 1 0 0 0 1 0 0 0 1 1 0 1 1 1 0 1 1 0 0 0 1 1 0 0 1 0 0 0\n",
      " 1 0 0 0 0 1 0 0 0 1 1 1 0 0 1 0 1 0 0 0 0 1 1 0 0 0 1 1 0 1 0 1 1 0 1 1 0\n",
      " 1 1 0 0 0 0 0 0 0 1 0 0 1 0 1 0 0 1 1 0 0 1 1 1 1 0 1 0 1 0 0 0 0 0 1 0 0\n",
      " 1 1 0 0 0 0 0 1 0 0 0 0 1 1 0 0 1 0 0 1 0 0 1 1 0 1 0 1 0 0 1 0 0 0 1 0 1\n",
      " 0 0 1 1 1 0 1 0 1 1 1 1 0 1 0 0 1 0 1 1 0 1 1 1 1 0 0 0 1 0 1 0 0 0 1 1 1\n",
      " 1 0 0 1 1 0 0 1 1 1 0 0 0 0 0 0 0 0 1 0 0 0 1 0 1 0 1 1 0 1 0 0 0 1 1 0 0\n",
      " 0 1 1 1 0 0 0 0 0 1 0 1 1 0 0 1 1 0 0 0 0 1 1 0 1 0 0 1 0 0 0 1 0 1 1 0 0\n",
      " 0 0 0 0]\n"
     ]
    },
    {
     "name": "stderr",
     "output_type": "stream",
     "text": [
      "C:\\Users\\user\\Anaconda3\\lib\\site-packages\\sklearn\\neural_network\\_multilayer_perceptron.py:571: ConvergenceWarning: Stochastic Optimizer: Maximum iterations (200) reached and the optimization hasn't converged yet.\n",
      "  % self.max_iter, ConvergenceWarning)\n"
     ]
    }
   ],
   "source": [
    "#1. 모듈 및 함수 불러오기\n",
    "from sklearn.neural_network import MLPClassifier\n",
    "\n",
    "#2. 모형 생성 \n",
    "model = MLPClassifier(random_state=0, alpha = 0.001, hidden_layer_sizes = [50] )\n",
    "\n",
    "#3. 모형 학습 및 예측 \n",
    "model.fit(X_train, Y_train)\n",
    "Y_pred = model.predict(X_test)\n",
    "print('평가용 데이터 세트에 대한 예측값\\n', Y_pred)\n"
   ]
  },
  {
   "cell_type": "markdown",
   "metadata": {},
   "source": [
    "- 모형 평가"
   ]
  },
  {
   "cell_type": "code",
   "execution_count": 3,
   "metadata": {},
   "outputs": [
    {
     "name": "stdout",
     "output_type": "stream",
     "text": [
      "학습용 데이터 세트 정확도: 0.898\n",
      "평가용 데이터 세트 정확도: 0.887\n"
     ]
    }
   ],
   "source": [
    "print('학습용 데이터 세트 정확도: {:.3f}'.format(model.score(X_train, Y_train)))\n",
    "print('평가용 데이터 세트 정확도: {:.3f}'.format(model.score(X_test, Y_test)))"
   ]
  },
  {
   "cell_type": "code",
   "execution_count": 4,
   "metadata": {},
   "outputs": [
    {
     "name": "stdout",
     "output_type": "stream",
     "text": [
      "              precision    recall  f1-score   support\n",
      "\n",
      "           0       0.92      0.89      0.90       177\n",
      "           1       0.84      0.89      0.87       123\n",
      "\n",
      "    accuracy                           0.89       300\n",
      "   macro avg       0.88      0.89      0.88       300\n",
      "weighted avg       0.89      0.89      0.89       300\n",
      "\n"
     ]
    }
   ],
   "source": [
    "#1. 모듈 및 함수 불러오기\n",
    "from sklearn.metrics import classification_report  \n",
    "\n",
    "#2. 정밀도, 재현율, F1 스코어 출력\n",
    "print(classification_report(Y_test, Y_pred))"
   ]
  },
  {
   "cell_type": "markdown",
   "metadata": {},
   "source": [
    "### (2) 수치 예측 실습"
   ]
  },
  {
   "cell_type": "markdown",
   "metadata": {},
   "source": [
    "- 변수 지정 및 전처리"
   ]
  },
  {
   "cell_type": "code",
   "execution_count": 5,
   "metadata": {},
   "outputs": [],
   "source": [
    "#1. 모듈 및 함수 불러오기\n",
    "\n",
    "import numpy as np\n",
    "\n",
    "#2. 변수 지정 및 \n",
    "X=df[df.이탈여부==0][['방문빈도', '총 할인 금액', '고객등급', '구매유형', '거래기간', '할인민감여부','평균 구매주기']]\n",
    "Y =np.log1p(df[df.이탈여부==0]['1회 평균매출액'])\n",
    "\n",
    "#3. 데이터 분할\n",
    "X_train, X_test, Y_train, Y_test = train_test_split(X, Y, test_size=0.3, random_state=0)\n",
    "\n",
    "#4. 표준화 및 원핫인코딩\n",
    "ct = ColumnTransformer([('scaling', StandardScaler(), ['방문빈도', '총 할인 금액', '거래기간', \n",
    "'평균 구매주기']), ('onehot', OneHotEncoder(sparse = False),['고객등급', '할인민감여부', \n",
    "'구매유형'])])\n",
    "ct.fit(X_train)\n",
    "X_train=ct.transform(X_train)\n",
    "X_test=ct.transform(X_test)\n"
   ]
  },
  {
   "cell_type": "markdown",
   "metadata": {},
   "source": [
    "- 모형 학습 및 평가"
   ]
  },
  {
   "cell_type": "code",
   "execution_count": 6,
   "metadata": {},
   "outputs": [
    {
     "name": "stdout",
     "output_type": "stream",
     "text": [
      "평가용 데이터 세트에 대한 예측값\n",
      " [12.6477617  12.08440792 11.91145523 13.3082498  11.61975833 12.21617464\n",
      " 11.09956832 12.42788763 11.88221406 12.34200744 12.37716096 12.39688378\n",
      " 12.35676987 12.09788225 12.79515645 12.06765255 12.73711254 12.86210825\n",
      " 12.03530154 12.38181906 12.75071175 11.57998222 12.31781106 12.61832592\n",
      " 11.10738745 12.98650446 12.66696291 12.24779974 12.30830584 12.01606842\n",
      " 12.70721122 12.97291006 12.51729587 13.1232342  12.08939231 12.02779396\n",
      " 12.06544449 13.01804133 11.96701783 13.32169349 12.75257899 12.02382266\n",
      " 12.51066148 12.05052917 12.35385259 12.56924187 11.31787287 12.11968403\n",
      " 12.70654195 12.38737966 11.99907342 13.29785469 11.36649102 12.88950884\n",
      " 12.7930371  12.42713632 12.51557994 12.46126645 12.17941176 12.12676422\n",
      " 12.86684542 13.09886034 11.50126616 12.42901966 12.08592068 11.72087048\n",
      " 11.97876738 11.67683805 12.99883331 12.33187645 12.35060844 11.66813714\n",
      " 11.97609295 11.75543921 12.41210675 13.04049095 12.62930439 12.99376303\n",
      " 12.1672865  12.42885985 12.43193269 11.94510976 11.74497533 12.4293916\n",
      " 12.39226546 12.66868595 12.51823072 12.59876981 11.72316115 12.78474047\n",
      " 12.35668304 13.08676709 12.48493055 13.18816307 11.85616853 13.03332936\n",
      " 12.81564124 12.35283975 12.88324946 12.02780059 11.8565852  12.40430661\n",
      " 12.77356562 11.72862505 12.32568558 12.82481228 12.79824484 11.72783872\n",
      " 12.22360475 12.73145575 12.02373752 11.87761361 12.75102261 13.22865455\n",
      " 11.98815106 12.2368173  12.23967935 12.82640996 12.32306568 12.61230945\n",
      " 12.9147687  12.74049153 12.17365386 12.77568566 12.79305011 12.27560948\n",
      " 12.12926237 11.5827439  12.67591383 11.92279309 12.30494241 11.66970295\n",
      " 13.11953534 12.45300362 11.43116445 12.30961476 11.5607476  12.15763976\n",
      " 12.57630006 11.85892477 12.49635936 12.13519531 12.61428623 11.83972889\n",
      " 12.30140834 12.46323436 12.61470363 12.96619953 12.39342846 12.19769816\n",
      " 12.3052709  12.67642701 12.47538863 12.79924607 13.60995983 11.54205644\n",
      " 12.05618786 12.89535554 12.11996918 12.67268277 12.90303629 12.75283484\n",
      " 12.74236327 11.88079075 12.48438962 12.43780662 12.6765344  11.10305239\n",
      " 12.86879192 12.49188354 11.19879105 11.97930652 11.44649396 13.12869848\n",
      " 12.22999293 12.58913913 13.72927531 11.73416332 12.24469385 11.62566255\n",
      " 13.67392842 14.2724729  12.65480273 12.76995935 12.26394151 11.74331592\n",
      " 12.34077102 12.34970162 11.15869352 12.82317749 12.29369191 12.70649159\n",
      " 13.46201099 12.31933319 12.11934849 11.92929866 12.47108047 12.09727714\n",
      " 12.85070714 11.39578597 13.40032945 12.36967777 12.22080612 11.49641421\n",
      " 12.66498654 11.85500081 12.25484536 12.481228   12.94028147 12.41072122]\n"
     ]
    },
    {
     "name": "stderr",
     "output_type": "stream",
     "text": [
      "C:\\Users\\user\\Anaconda3\\lib\\site-packages\\sklearn\\neural_network\\_multilayer_perceptron.py:571: ConvergenceWarning: Stochastic Optimizer: Maximum iterations (1000) reached and the optimization hasn't converged yet.\n",
      "  % self.max_iter, ConvergenceWarning)\n"
     ]
    }
   ],
   "source": [
    "#1. 모듈 및 함수 불러오기\n",
    "from sklearn.neural_network import MLPRegressor\n",
    "\n",
    "#2. 모형 생성 \n",
    "model = MLPRegressor(random_state=0,  alpha =1, max_iter= 1000, hidden_layer_sizes = [50, 50])\n",
    "\n",
    "#3. 모형 학습 및 예측\n",
    "model.fit(X_train, Y_train)\n",
    "Y_pred = model.predict(X_test)\n",
    "print('평가용 데이터 세트에 대한 예측값\\n', Y_pred)"
   ]
  },
  {
   "cell_type": "markdown",
   "metadata": {},
   "source": [
    "- 모형 평가"
   ]
  },
  {
   "cell_type": "code",
   "execution_count": 7,
   "metadata": {},
   "outputs": [
    {
     "name": "stdout",
     "output_type": "stream",
     "text": [
      "학습용 데이터 세트 결정계수: 0.730\n",
      "평가용 데이터 세트 결정계수: 0.609\n"
     ]
    }
   ],
   "source": [
    "print('학습용 데이터 세트 결정계수: {:.3f}'.format(model.score(X_train, Y_train)))\n",
    "print('평가용 데이터 세트 결정계수: {:.3f}'.format(model.score(X_test, Y_test)))\n"
   ]
  },
  {
   "cell_type": "code",
   "execution_count": 8,
   "metadata": {},
   "outputs": [
    {
     "name": "stdout",
     "output_type": "stream",
     "text": [
      "RMSE:0.406\n"
     ]
    }
   ],
   "source": [
    "#1. 모듈 및 함수 불러오기\n",
    "from sklearn.metrics import mean_squared_error\n",
    "from math import sqrt\n",
    "\n",
    "#2. RMSE 계산\n",
    "rmse= sqrt(mean_squared_error(Y_test, Y_pred))\n",
    "print('RMSE:{:.3f}'.format(rmse))"
   ]
  },
  {
   "cell_type": "code",
   "execution_count": null,
   "metadata": {},
   "outputs": [],
   "source": []
  }
 ],
 "metadata": {
  "kernelspec": {
   "display_name": "Python 3",
   "language": "python",
   "name": "python3"
  },
  "language_info": {
   "codemirror_mode": {
    "name": "ipython",
    "version": 3
   },
   "file_extension": ".py",
   "mimetype": "text/x-python",
   "name": "python",
   "nbconvert_exporter": "python",
   "pygments_lexer": "ipython3",
   "version": "3.7.4"
  }
 },
 "nbformat": 4,
 "nbformat_minor": 2
}
