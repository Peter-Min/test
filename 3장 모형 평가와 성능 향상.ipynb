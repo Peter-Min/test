{
 "cells": [
  {
   "cell_type": "markdown",
   "metadata": {},
   "source": [
    "## 3장 모형 평가와 성능 향상"
   ]
  },
  {
   "cell_type": "markdown",
   "metadata": {},
   "source": [
    "### [1] 교차검증"
   ]
  },
  {
   "cell_type": "markdown",
   "metadata": {},
   "source": [
    "- K-겹 교차검증"
   ]
  },
  {
   "cell_type": "code",
   "execution_count": 1,
   "metadata": {},
   "outputs": [
    {
     "name": "stdout",
     "output_type": "stream",
     "text": [
      "교차검증 점수: [0.65777511 0.71775927 0.61704877 0.64648606 0.77413476]\n"
     ]
    }
   ],
   "source": [
    "#1. 모듈과 함수 불러오기\n",
    "import pandas as pd\n",
    "from sklearn.model_selection import train_test_split\n",
    "from sklearn.neighbors import KNeighborsRegressor \n",
    "from sklearn.model_selection import cross_val_score\n",
    "\n",
    "#2. 데이터 불러오기\n",
    "df = pd.read_csv('Ashopping.csv', encoding = 'cp949')\n",
    "\n",
    "#3. 변수 지정(독립변수/종속변수)\n",
    "X = df[['총매출액', '1회 평균매출액', '할인권 사용 횟수']]\n",
    "Y = df['평균 구매주기']\n",
    "\n",
    "#4. 데이터 분할(학습용/평가용 데이터 세트)\n",
    "X_train, X_test, Y_train, Y_test = train_test_split(X, Y, test_size=0.3, random_state=0)\n",
    "\n",
    "#5. 모형 생성\n",
    "model = KNeighborsRegressor()\n",
    "\n",
    "#6. 5-겹 교차검증 수행\n",
    "scores = cross_val_score(model, X_train, Y_train, cv=5)\n",
    "print('교차검증 점수:', scores)"
   ]
  },
  {
   "cell_type": "markdown",
   "metadata": {},
   "source": [
    "- 층화 K-겹 교차검증"
   ]
  },
  {
   "cell_type": "code",
   "execution_count": 2,
   "metadata": {},
   "outputs": [
    {
     "name": "stdout",
     "output_type": "stream",
     "text": [
      "층화 교차검증 점수: [0.64285714 0.7        0.67857143 0.67142857 0.70714286]\n"
     ]
    }
   ],
   "source": [
    "#1. 모듈과 함수 불러오기\n",
    "from sklearn.neighbors import KNeighborsClassifier\n",
    "from sklearn.model_selection import StratifiedKFold\n",
    "\n",
    "#2. 변수 지정(독립변수/종속변수) \n",
    "X = df[['총매출액', '거래기간', '방문빈도']]\n",
    "Y = df['이탈여부']\n",
    "\n",
    "#3. 데이터 분할(학습용/평가용 데이터 세트)\n",
    "X_train, X_test, Y_train, Y_test = train_test_split(X, Y, test_size=0.3, random_state=0)\n",
    "\n",
    "#4. 모형 생성\n",
    "model= KNeighborsClassifier()\n",
    "\n",
    "#5. 층화 5-겹 교차검증 수행\n",
    "skf = StratifiedKFold( n_splits=5, shuffle=True, random_state=0)\n",
    "scores = cross_val_score(model, X_train, Y_train, cv=skf)\n",
    "print('층화 교차검증 점수:', scores)"
   ]
  },
  {
   "cell_type": "markdown",
   "metadata": {},
   "source": [
    "### [2] 변수 선택"
   ]
  },
  {
   "cell_type": "markdown",
   "metadata": {},
   "source": [
    "- 일변량 통계기반 선택"
   ]
  },
  {
   "cell_type": "code",
   "execution_count": 3,
   "metadata": {},
   "outputs": [
    {
     "data": {
      "text/html": [
       "<div>\n",
       "<style scoped>\n",
       "    .dataframe tbody tr th:only-of-type {\n",
       "        vertical-align: middle;\n",
       "    }\n",
       "\n",
       "    .dataframe tbody tr th {\n",
       "        vertical-align: top;\n",
       "    }\n",
       "\n",
       "    .dataframe thead th {\n",
       "        text-align: right;\n",
       "    }\n",
       "</style>\n",
       "<table border=\"1\" class=\"dataframe\">\n",
       "  <thead>\n",
       "    <tr style=\"text-align: right;\">\n",
       "      <th></th>\n",
       "      <th>Chi-squared stats</th>\n",
       "      <th>P Value</th>\n",
       "      <th>Support</th>\n",
       "      <th>Attribute</th>\n",
       "    </tr>\n",
       "  </thead>\n",
       "  <tbody>\n",
       "    <tr>\n",
       "      <td>0</td>\n",
       "      <td>5.823528e+07</td>\n",
       "      <td>0.000000e+00</td>\n",
       "      <td>True</td>\n",
       "      <td>총매출액</td>\n",
       "    </tr>\n",
       "    <tr>\n",
       "      <td>1</td>\n",
       "      <td>1.779863e+01</td>\n",
       "      <td>2.455599e-05</td>\n",
       "      <td>True</td>\n",
       "      <td>구매금액대</td>\n",
       "    </tr>\n",
       "    <tr>\n",
       "      <td>2</td>\n",
       "      <td>5.962933e+02</td>\n",
       "      <td>1.071593e-131</td>\n",
       "      <td>True</td>\n",
       "      <td>방문빈도</td>\n",
       "    </tr>\n",
       "    <tr>\n",
       "      <td>3</td>\n",
       "      <td>8.186325e+06</td>\n",
       "      <td>0.000000e+00</td>\n",
       "      <td>True</td>\n",
       "      <td>1회 평균매출액</td>\n",
       "    </tr>\n",
       "    <tr>\n",
       "      <td>5</td>\n",
       "      <td>1.425263e+03</td>\n",
       "      <td>0.000000e+00</td>\n",
       "      <td>True</td>\n",
       "      <td>총 할인 금액</td>\n",
       "    </tr>\n",
       "    <tr>\n",
       "      <td>11</td>\n",
       "      <td>9.683742e+00</td>\n",
       "      <td>1.859056e-03</td>\n",
       "      <td>True</td>\n",
       "      <td>성별</td>\n",
       "    </tr>\n",
       "    <tr>\n",
       "      <td>13</td>\n",
       "      <td>1.459119e+04</td>\n",
       "      <td>0.000000e+00</td>\n",
       "      <td>True</td>\n",
       "      <td>거래기간</td>\n",
       "    </tr>\n",
       "    <tr>\n",
       "      <td>14</td>\n",
       "      <td>4.657066e+01</td>\n",
       "      <td>8.837358e-12</td>\n",
       "      <td>True</td>\n",
       "      <td>할인민감여부</td>\n",
       "    </tr>\n",
       "    <tr>\n",
       "      <td>16</td>\n",
       "      <td>7.904040e+00</td>\n",
       "      <td>4.932450e-03</td>\n",
       "      <td>True</td>\n",
       "      <td>Frequency</td>\n",
       "    </tr>\n",
       "    <tr>\n",
       "      <td>18</td>\n",
       "      <td>8.628299e+03</td>\n",
       "      <td>0.000000e+00</td>\n",
       "      <td>True</td>\n",
       "      <td>평균 구매주기</td>\n",
       "    </tr>\n",
       "  </tbody>\n",
       "</table>\n",
       "</div>"
      ],
      "text/plain": [
       "    Chi-squared stats        P Value  Support  Attribute\n",
       "0        5.823528e+07   0.000000e+00     True       총매출액\n",
       "1        1.779863e+01   2.455599e-05     True      구매금액대\n",
       "2        5.962933e+02  1.071593e-131     True       방문빈도\n",
       "3        8.186325e+06   0.000000e+00     True   1회 평균매출액\n",
       "5        1.425263e+03   0.000000e+00     True    총 할인 금액\n",
       "11       9.683742e+00   1.859056e-03     True         성별\n",
       "13       1.459119e+04   0.000000e+00     True       거래기간\n",
       "14       4.657066e+01   8.837358e-12     True     할인민감여부\n",
       "16       7.904040e+00   4.932450e-03     True  Frequency\n",
       "18       8.628299e+03   0.000000e+00     True    평균 구매주기"
      ]
     },
     "execution_count": 3,
     "metadata": {},
     "output_type": "execute_result"
    }
   ],
   "source": [
    "#1. 모듈 및 함수 불러오기\n",
    "from sklearn.feature_selection import SelectKBest, chi2\n",
    "\n",
    "#2. 변수 지정(독립변수/종속변수)\n",
    "X = df.drop(['고객ID', '이탈여부'], axis=1)\n",
    "Y = df['이탈여부']\n",
    "\n",
    "#3. 데이터 분할(학습용/평가용 데이터 세트)\n",
    "X_train, X_test, Y_train, Y_test = train_test_split(X, Y, test_size=0.3, random_state=0)\n",
    "\n",
    "#4. 일변량 통계기반 변수 선택\n",
    "feat_selector = SelectKBest(chi2)\n",
    "feat_selector.fit(X_train, Y_train)\n",
    "\n",
    "#5. 선택된 변수 출력\n",
    "feat_scores = pd.DataFrame()\n",
    "feat_scores['Chi-squared stats'] = feat_selector.scores_\n",
    "feat_scores['P Value'] = feat_selector.pvalues_\n",
    "feat_scores['Support'] = feat_selector.get_support()\n",
    "feat_scores['Attribute'] = X_train.columns\n",
    "feat_scores[feat_scores['Support'] == True]"
   ]
  },
  {
   "cell_type": "markdown",
   "metadata": {},
   "source": [
    "- 모형기반 선택"
   ]
  },
  {
   "cell_type": "code",
   "execution_count": 4,
   "metadata": {},
   "outputs": [
    {
     "data": {
      "text/html": [
       "<div>\n",
       "<style scoped>\n",
       "    .dataframe tbody tr th:only-of-type {\n",
       "        vertical-align: middle;\n",
       "    }\n",
       "\n",
       "    .dataframe tbody tr th {\n",
       "        vertical-align: top;\n",
       "    }\n",
       "\n",
       "    .dataframe thead th {\n",
       "        text-align: right;\n",
       "    }\n",
       "</style>\n",
       "<table border=\"1\" class=\"dataframe\">\n",
       "  <thead>\n",
       "    <tr style=\"text-align: right;\">\n",
       "      <th></th>\n",
       "      <th>Attribute</th>\n",
       "      <th>Support</th>\n",
       "    </tr>\n",
       "  </thead>\n",
       "  <tbody>\n",
       "    <tr>\n",
       "      <td>0</td>\n",
       "      <td>총매출액</td>\n",
       "      <td>True</td>\n",
       "    </tr>\n",
       "    <tr>\n",
       "      <td>2</td>\n",
       "      <td>방문빈도</td>\n",
       "      <td>True</td>\n",
       "    </tr>\n",
       "    <tr>\n",
       "      <td>3</td>\n",
       "      <td>1회 평균매출액</td>\n",
       "      <td>True</td>\n",
       "    </tr>\n",
       "    <tr>\n",
       "      <td>4</td>\n",
       "      <td>할인권 사용 횟수</td>\n",
       "      <td>True</td>\n",
       "    </tr>\n",
       "    <tr>\n",
       "      <td>5</td>\n",
       "      <td>총 할인 금액</td>\n",
       "      <td>True</td>\n",
       "    </tr>\n",
       "    <tr>\n",
       "      <td>10</td>\n",
       "      <td>거주지역</td>\n",
       "      <td>True</td>\n",
       "    </tr>\n",
       "    <tr>\n",
       "      <td>12</td>\n",
       "      <td>고객 나이대</td>\n",
       "      <td>True</td>\n",
       "    </tr>\n",
       "    <tr>\n",
       "      <td>13</td>\n",
       "      <td>거래기간</td>\n",
       "      <td>True</td>\n",
       "    </tr>\n",
       "    <tr>\n",
       "      <td>14</td>\n",
       "      <td>할인민감여부</td>\n",
       "      <td>True</td>\n",
       "    </tr>\n",
       "    <tr>\n",
       "      <td>18</td>\n",
       "      <td>평균 구매주기</td>\n",
       "      <td>True</td>\n",
       "    </tr>\n",
       "  </tbody>\n",
       "</table>\n",
       "</div>"
      ],
      "text/plain": [
       "    Attribute  Support\n",
       "0        총매출액     True\n",
       "2        방문빈도     True\n",
       "3    1회 평균매출액     True\n",
       "4   할인권 사용 횟수     True\n",
       "5     총 할인 금액     True\n",
       "10       거주지역     True\n",
       "12     고객 나이대     True\n",
       "13       거래기간     True\n",
       "14     할인민감여부     True\n",
       "18    평균 구매주기     True"
      ]
     },
     "execution_count": 4,
     "metadata": {},
     "output_type": "execute_result"
    }
   ],
   "source": [
    "#1. 모듈 및 함수 불러오기\n",
    "from sklearn.feature_selection import SelectFromModel\n",
    "from sklearn.ensemble import RandomForestClassifier\n",
    "\n",
    "#2. 모형 기반 변수 선택\n",
    "feat_selector = SelectFromModel(RandomForestClassifier(n_estimators=100, random_state=0), threshold='median')\n",
    "feat_selector.fit(X_train, Y_train)\n",
    "\n",
    "#3. 선택된 변수 출력\n",
    "feat_scores = pd.DataFrame()\n",
    "feat_scores['Attribute'] = X_train.columns\n",
    "feat_scores['Support'] = feat_selector.get_support()\n",
    "feat_scores[feat_scores['Support'] == True]"
   ]
  },
  {
   "cell_type": "markdown",
   "metadata": {},
   "source": [
    "- 반복적 변수 선택"
   ]
  },
  {
   "cell_type": "code",
   "execution_count": 5,
   "metadata": {},
   "outputs": [
    {
     "name": "stdout",
     "output_type": "stream",
     "text": [
      "['총매출액' '방문빈도' '1회 평균매출액' '할인권 사용 횟수' '총 할인 금액' '고객 나이대' '거래기간' '할인민감여부'\n",
      " '평균 구매주기']\n"
     ]
    }
   ],
   "source": [
    "#1. 모듈 및 함수 불러오기\n",
    "from sklearn.feature_selection import RFE\n",
    "import numpy as np\n",
    "\n",
    "#2. 반복적 변수 선택\n",
    "select = RFE(RandomForestClassifier(n_estimators=100, random_state=0))\n",
    "select.fit(X_train, Y_train)\n",
    "\n",
    "#3. 선택된 변수 출력\n",
    "features_bool = np.array(select.get_support())\n",
    "features = np.array(X.columns)\n",
    "result = features[features_bool]\n",
    "print(result)"
   ]
  },
  {
   "cell_type": "markdown",
   "metadata": {},
   "source": [
    "### [3] 데이터 밸런싱"
   ]
  },
  {
   "cell_type": "markdown",
   "metadata": {},
   "source": [
    "- 언더 샘플링"
   ]
  },
  {
   "cell_type": "code",
   "execution_count": 6,
   "metadata": {},
   "outputs": [
    {
     "name": "stderr",
     "output_type": "stream",
     "text": [
      "Using TensorFlow backend.\n"
     ]
    },
    {
     "name": "stdout",
     "output_type": "stream",
     "text": [
      "Original dataset shape Counter({0: 700, 1: 300})\n",
      "sampled dataset shape Counter({0: 481, 1: 219})\n",
      "Resampled dataset shape Counter({0: 219, 1: 219})\n"
     ]
    }
   ],
   "source": [
    "#1. 모듈 및 함수 불러오기\n",
    "from imblearn.under_sampling import RandomUnderSampler \n",
    "from collections import Counter\n",
    "\n",
    "#2. 랜덤 언더 샘플링 실행\n",
    "X_train_under, Y_train_under = \\\n",
    "RandomUnderSampler(random_state=0).fit_sample(X_train, Y_train)\n",
    "\n",
    "#3. 결과 출력\n",
    "print('Original dataset shape %s' % Counter(Y))\n",
    "print('sampled dataset shape %s' % Counter(Y_train))\n",
    "print('Resampled dataset shape %s' % Counter(Y_train_under))"
   ]
  },
  {
   "cell_type": "markdown",
   "metadata": {},
   "source": [
    "- 오버 샘플링"
   ]
  },
  {
   "cell_type": "code",
   "execution_count": 7,
   "metadata": {},
   "outputs": [
    {
     "name": "stdout",
     "output_type": "stream",
     "text": [
      "Original dataset shape Counter({0: 700, 1: 300})\n",
      "sampled dataset shape Counter({0: 481, 1: 219})\n",
      "Resampled dataset shape Counter({1: 481, 0: 481})\n"
     ]
    }
   ],
   "source": [
    "#1. 모듈 및 함수 불러오기\n",
    "from imblearn.over_sampling import SMOTE\n",
    "\n",
    "#2. SMOTE 샘플링 실행\n",
    "X_train_over, Y_train_over = SMOTE(random_state=0).fit_sample(X_train, Y_train)\n",
    "\n",
    "#3. 결과 출력\n",
    "print('Original dataset shape %s' % Counter(Y))\n",
    "print('sampled dataset shape %s' % Counter(Y_train))\n",
    "print('Resampled dataset shape %s' % Counter(Y_train_over))"
   ]
  },
  {
   "cell_type": "markdown",
   "metadata": {},
   "source": [
    "### [4] 그리드 서치"
   ]
  },
  {
   "cell_type": "code",
   "execution_count": 8,
   "metadata": {},
   "outputs": [
    {
     "name": "stdout",
     "output_type": "stream",
     "text": [
      "최적의 인자 : {'n_neighbors': 9}\n"
     ]
    }
   ],
   "source": [
    "#1. 모듈 및 함수 불러오기\n",
    "from sklearn.model_selection import GridSearchCV\n",
    "\n",
    "#2. 변수 선택(독립변수/종속변수) \n",
    "X = df[['총매출액', '거래기간', '방문빈도']]\n",
    "Y = df['이탈여부']\n",
    "\n",
    "#3. 데이터 분할(학습용/평가용 데이터 세트)\n",
    "X_train, X_test, Y_train, Y_test = train_test_split(X, Y, test_size=0.3, random_state=0)\n",
    "\n",
    "#4. 검색 대상 인자 생성\n",
    "mylist = list(range(1,50))\n",
    "k_list = [x for x in mylist if x %2 !=0]\n",
    "parameter_grid = {'n_neighbors':k_list}\n",
    "\n",
    "#5. 그리드 서치 수행\n",
    "grid_search = GridSearchCV(KNeighborsClassifier(), parameter_grid, cv = 10)\n",
    "grid_search.fit(X_train, Y_train)\n",
    "\n",
    "print('최적의 인자 :', grid_search.best_params_)"
   ]
  }
 ],
 "metadata": {
  "kernelspec": {
   "display_name": "Python 3",
   "language": "python",
   "name": "python3"
  },
  "language_info": {
   "codemirror_mode": {
    "name": "ipython",
    "version": 3
   },
   "file_extension": ".py",
   "mimetype": "text/x-python",
   "name": "python",
   "nbconvert_exporter": "python",
   "pygments_lexer": "ipython3",
   "version": "3.7.4"
  }
 },
 "nbformat": 4,
 "nbformat_minor": 2
}
